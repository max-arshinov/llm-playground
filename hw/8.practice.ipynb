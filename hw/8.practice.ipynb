{
 "cells": [
  {
   "metadata": {
    "ExecuteTime": {
     "end_time": "2024-12-26T14:31:37.697231Z",
     "start_time": "2024-12-26T14:31:36.517727Z"
    }
   },
   "cell_type": "code",
   "source": "%pip install --upgrade --user google-cloud-aiplatform pymupdf rich colorama",
   "id": "c4f417283cd642b9",
   "outputs": [
    {
     "name": "stdout",
     "output_type": "stream",
     "text": [
      "Requirement already satisfied: google-cloud-aiplatform in /Users/marshinov/Library/Python/3.9/lib/python/site-packages (1.75.0)\r\n",
      "Requirement already satisfied: pymupdf in /Users/marshinov/Library/Python/3.9/lib/python/site-packages (1.25.1)\r\n",
      "Requirement already satisfied: rich in /Users/marshinov/Library/Python/3.9/lib/python/site-packages (13.9.4)\r\n",
      "Requirement already satisfied: colorama in /Users/marshinov/Library/Python/3.9/lib/python/site-packages (0.4.6)\r\n",
      "Requirement already satisfied: google-api-core!=2.0.*,!=2.1.*,!=2.2.*,!=2.3.*,!=2.4.*,!=2.5.*,!=2.6.*,!=2.7.*,<3.0.0dev,>=1.34.1 in /Users/marshinov/Library/Python/3.9/lib/python/site-packages (from google-api-core[grpc]!=2.0.*,!=2.1.*,!=2.2.*,!=2.3.*,!=2.4.*,!=2.5.*,!=2.6.*,!=2.7.*,<3.0.0dev,>=1.34.1->google-cloud-aiplatform) (2.24.0)\r\n",
      "Requirement already satisfied: google-auth<3.0.0dev,>=2.14.1 in /Users/marshinov/Library/Python/3.9/lib/python/site-packages (from google-cloud-aiplatform) (2.37.0)\r\n",
      "Requirement already satisfied: proto-plus<2.0.0dev,>=1.22.3 in /Users/marshinov/Library/Python/3.9/lib/python/site-packages (from google-cloud-aiplatform) (1.25.0)\r\n",
      "Requirement already satisfied: protobuf!=4.21.0,!=4.21.1,!=4.21.2,!=4.21.3,!=4.21.4,!=4.21.5,<6.0.0dev,>=3.20.2 in /Users/marshinov/Library/Python/3.9/lib/python/site-packages (from google-cloud-aiplatform) (5.29.2)\r\n",
      "Requirement already satisfied: packaging>=14.3 in /Users/marshinov/Library/Python/3.9/lib/python/site-packages (from google-cloud-aiplatform) (24.2)\r\n",
      "Requirement already satisfied: google-cloud-storage<3.0.0dev,>=1.32.0 in /Users/marshinov/Library/Python/3.9/lib/python/site-packages (from google-cloud-aiplatform) (2.19.0)\r\n",
      "Requirement already satisfied: google-cloud-bigquery!=3.20.0,<4.0.0dev,>=1.15.0 in /Users/marshinov/Library/Python/3.9/lib/python/site-packages (from google-cloud-aiplatform) (3.27.0)\r\n",
      "Requirement already satisfied: google-cloud-resource-manager<3.0.0dev,>=1.3.3 in /Users/marshinov/Library/Python/3.9/lib/python/site-packages (from google-cloud-aiplatform) (1.14.0)\r\n",
      "Requirement already satisfied: shapely<3.0.0dev in /Users/marshinov/Library/Python/3.9/lib/python/site-packages (from google-cloud-aiplatform) (2.0.6)\r\n",
      "Requirement already satisfied: pydantic<3 in /Users/marshinov/Library/Python/3.9/lib/python/site-packages (from google-cloud-aiplatform) (2.10.4)\r\n",
      "Requirement already satisfied: docstring-parser<1 in /Users/marshinov/Library/Python/3.9/lib/python/site-packages (from google-cloud-aiplatform) (0.16)\r\n",
      "Requirement already satisfied: markdown-it-py>=2.2.0 in /Users/marshinov/Library/Python/3.9/lib/python/site-packages (from rich) (3.0.0)\r\n",
      "Requirement already satisfied: pygments<3.0.0,>=2.13.0 in /Users/marshinov/Library/Python/3.9/lib/python/site-packages (from rich) (2.18.0)\r\n",
      "Requirement already satisfied: typing-extensions<5.0,>=4.0.0 in /Users/marshinov/Library/Python/3.9/lib/python/site-packages (from rich) (4.12.2)\r\n",
      "Requirement already satisfied: googleapis-common-protos<2.0.dev0,>=1.56.2 in /Users/marshinov/Library/Python/3.9/lib/python/site-packages (from google-api-core!=2.0.*,!=2.1.*,!=2.2.*,!=2.3.*,!=2.4.*,!=2.5.*,!=2.6.*,!=2.7.*,<3.0.0dev,>=1.34.1->google-api-core[grpc]!=2.0.*,!=2.1.*,!=2.2.*,!=2.3.*,!=2.4.*,!=2.5.*,!=2.6.*,!=2.7.*,<3.0.0dev,>=1.34.1->google-cloud-aiplatform) (1.66.0)\r\n",
      "Requirement already satisfied: requests<3.0.0.dev0,>=2.18.0 in /Users/marshinov/Library/Python/3.9/lib/python/site-packages (from google-api-core!=2.0.*,!=2.1.*,!=2.2.*,!=2.3.*,!=2.4.*,!=2.5.*,!=2.6.*,!=2.7.*,<3.0.0dev,>=1.34.1->google-api-core[grpc]!=2.0.*,!=2.1.*,!=2.2.*,!=2.3.*,!=2.4.*,!=2.5.*,!=2.6.*,!=2.7.*,<3.0.0dev,>=1.34.1->google-cloud-aiplatform) (2.32.3)\r\n",
      "Requirement already satisfied: grpcio<2.0dev,>=1.33.2 in /Users/marshinov/Library/Python/3.9/lib/python/site-packages (from google-api-core[grpc]!=2.0.*,!=2.1.*,!=2.2.*,!=2.3.*,!=2.4.*,!=2.5.*,!=2.6.*,!=2.7.*,<3.0.0dev,>=1.34.1->google-cloud-aiplatform) (1.68.1)\r\n",
      "Requirement already satisfied: grpcio-status<2.0.dev0,>=1.33.2 in /Users/marshinov/Library/Python/3.9/lib/python/site-packages (from google-api-core[grpc]!=2.0.*,!=2.1.*,!=2.2.*,!=2.3.*,!=2.4.*,!=2.5.*,!=2.6.*,!=2.7.*,<3.0.0dev,>=1.34.1->google-cloud-aiplatform) (1.68.1)\r\n",
      "Requirement already satisfied: cachetools<6.0,>=2.0.0 in /Users/marshinov/Library/Python/3.9/lib/python/site-packages (from google-auth<3.0.0dev,>=2.14.1->google-cloud-aiplatform) (5.5.0)\r\n",
      "Requirement already satisfied: pyasn1-modules>=0.2.1 in /Users/marshinov/Library/Python/3.9/lib/python/site-packages (from google-auth<3.0.0dev,>=2.14.1->google-cloud-aiplatform) (0.4.1)\r\n",
      "Requirement already satisfied: rsa<5,>=3.1.4 in /Users/marshinov/Library/Python/3.9/lib/python/site-packages (from google-auth<3.0.0dev,>=2.14.1->google-cloud-aiplatform) (4.9)\r\n",
      "Requirement already satisfied: google-cloud-core<3.0.0dev,>=2.4.1 in /Users/marshinov/Library/Python/3.9/lib/python/site-packages (from google-cloud-bigquery!=3.20.0,<4.0.0dev,>=1.15.0->google-cloud-aiplatform) (2.4.1)\r\n",
      "Requirement already satisfied: google-resumable-media<3.0dev,>=2.0.0 in /Users/marshinov/Library/Python/3.9/lib/python/site-packages (from google-cloud-bigquery!=3.20.0,<4.0.0dev,>=1.15.0->google-cloud-aiplatform) (2.7.2)\r\n",
      "Requirement already satisfied: python-dateutil<3.0dev,>=2.7.3 in /Users/marshinov/Library/Python/3.9/lib/python/site-packages (from google-cloud-bigquery!=3.20.0,<4.0.0dev,>=1.15.0->google-cloud-aiplatform) (2.9.0.post0)\r\n",
      "Requirement already satisfied: grpc-google-iam-v1<1.0.0dev,>=0.12.4 in /Users/marshinov/Library/Python/3.9/lib/python/site-packages (from google-cloud-resource-manager<3.0.0dev,>=1.3.3->google-cloud-aiplatform) (0.13.1)\r\n",
      "Requirement already satisfied: google-crc32c<2.0dev,>=1.0 in /Users/marshinov/Library/Python/3.9/lib/python/site-packages (from google-cloud-storage<3.0.0dev,>=1.32.0->google-cloud-aiplatform) (1.6.0)\r\n",
      "Requirement already satisfied: mdurl~=0.1 in /Users/marshinov/Library/Python/3.9/lib/python/site-packages (from markdown-it-py>=2.2.0->rich) (0.1.2)\r\n",
      "Requirement already satisfied: annotated-types>=0.6.0 in /Users/marshinov/Library/Python/3.9/lib/python/site-packages (from pydantic<3->google-cloud-aiplatform) (0.7.0)\r\n",
      "Requirement already satisfied: pydantic-core==2.27.2 in /Users/marshinov/Library/Python/3.9/lib/python/site-packages (from pydantic<3->google-cloud-aiplatform) (2.27.2)\r\n",
      "Requirement already satisfied: numpy<3,>=1.14 in /Users/marshinov/Library/Python/3.9/lib/python/site-packages (from shapely<3.0.0dev->google-cloud-aiplatform) (1.26.4)\r\n",
      "Requirement already satisfied: pyasn1<0.7.0,>=0.4.6 in /Users/marshinov/Library/Python/3.9/lib/python/site-packages (from pyasn1-modules>=0.2.1->google-auth<3.0.0dev,>=2.14.1->google-cloud-aiplatform) (0.6.1)\r\n",
      "Requirement already satisfied: six>=1.5 in /Applications/Xcode.app/Contents/Developer/Library/Frameworks/Python3.framework/Versions/3.9/lib/python3.9/site-packages (from python-dateutil<3.0dev,>=2.7.3->google-cloud-bigquery!=3.20.0,<4.0.0dev,>=1.15.0->google-cloud-aiplatform) (1.15.0)\r\n",
      "Requirement already satisfied: charset-normalizer<4,>=2 in /Users/marshinov/Library/Python/3.9/lib/python/site-packages (from requests<3.0.0.dev0,>=2.18.0->google-api-core!=2.0.*,!=2.1.*,!=2.2.*,!=2.3.*,!=2.4.*,!=2.5.*,!=2.6.*,!=2.7.*,<3.0.0dev,>=1.34.1->google-api-core[grpc]!=2.0.*,!=2.1.*,!=2.2.*,!=2.3.*,!=2.4.*,!=2.5.*,!=2.6.*,!=2.7.*,<3.0.0dev,>=1.34.1->google-cloud-aiplatform) (3.4.0)\r\n",
      "Requirement already satisfied: idna<4,>=2.5 in /Users/marshinov/Library/Python/3.9/lib/python/site-packages (from requests<3.0.0.dev0,>=2.18.0->google-api-core!=2.0.*,!=2.1.*,!=2.2.*,!=2.3.*,!=2.4.*,!=2.5.*,!=2.6.*,!=2.7.*,<3.0.0dev,>=1.34.1->google-api-core[grpc]!=2.0.*,!=2.1.*,!=2.2.*,!=2.3.*,!=2.4.*,!=2.5.*,!=2.6.*,!=2.7.*,<3.0.0dev,>=1.34.1->google-cloud-aiplatform) (3.10)\r\n",
      "Requirement already satisfied: urllib3<3,>=1.21.1 in /Users/marshinov/Library/Python/3.9/lib/python/site-packages (from requests<3.0.0.dev0,>=2.18.0->google-api-core!=2.0.*,!=2.1.*,!=2.2.*,!=2.3.*,!=2.4.*,!=2.5.*,!=2.6.*,!=2.7.*,<3.0.0dev,>=1.34.1->google-api-core[grpc]!=2.0.*,!=2.1.*,!=2.2.*,!=2.3.*,!=2.4.*,!=2.5.*,!=2.6.*,!=2.7.*,<3.0.0dev,>=1.34.1->google-cloud-aiplatform) (2.2.3)\r\n",
      "Requirement already satisfied: certifi>=2017.4.17 in /Users/marshinov/Library/Python/3.9/lib/python/site-packages (from requests<3.0.0.dev0,>=2.18.0->google-api-core!=2.0.*,!=2.1.*,!=2.2.*,!=2.3.*,!=2.4.*,!=2.5.*,!=2.6.*,!=2.7.*,<3.0.0dev,>=1.34.1->google-api-core[grpc]!=2.0.*,!=2.1.*,!=2.2.*,!=2.3.*,!=2.4.*,!=2.5.*,!=2.6.*,!=2.7.*,<3.0.0dev,>=1.34.1->google-cloud-aiplatform) (2024.12.14)\r\n",
      "Note: you may need to restart the kernel to use updated packages.\n"
     ]
    }
   ],
   "execution_count": 40
  },
  {
   "metadata": {
    "ExecuteTime": {
     "end_time": "2024-12-26T16:14:14.956013Z",
     "start_time": "2024-12-26T16:14:14.949271Z"
    }
   },
   "cell_type": "code",
   "source": [
    "# Restart kernel after installs so that your environment can access the new packages\n",
    "import IPython\n",
    "\n",
    "app = IPython.Application.instance()\n",
    "app.kernel.do_shutdown(True)"
   ],
   "id": "821d8e8635f2aab6",
   "outputs": [
    {
     "data": {
      "text/plain": [
       "{'status': 'ok', 'restart': True}"
      ]
     },
     "execution_count": 18,
     "metadata": {},
     "output_type": "execute_result"
    }
   ],
   "execution_count": 18
  },
  {
   "metadata": {
    "ExecuteTime": {
     "end_time": "2024-12-26T16:14:37.015017Z",
     "start_time": "2024-12-26T16:14:37.011791Z"
    }
   },
   "cell_type": "code",
   "source": [
    "import os\n",
    "os.environ[\"GOOGLE_APPLICATION_CREDENTIALS\"]=\"./key.json\"\n",
    "# %system ~/google-cloud-sdk/bin/gcloud auth application-default login"
   ],
   "id": "9a22979e81fc6c47",
   "outputs": [],
   "execution_count": 2
  },
  {
   "metadata": {
    "ExecuteTime": {
     "end_time": "2024-12-26T16:14:39.467145Z",
     "start_time": "2024-12-26T16:14:39.456989Z"
    }
   },
   "cell_type": "code",
   "source": [
    "from dotenv import load_dotenv\n",
    "import os\n",
    "\n",
    "load_dotenv()\n",
    "google_project_id = os.getenv('GOOGLE_PROJECT_ID')\n",
    "google_location = \"europe-west1\""
   ],
   "id": "3c790e1b8eeb803c",
   "outputs": [],
   "execution_count": 3
  },
  {
   "metadata": {
    "ExecuteTime": {
     "end_time": "2024-12-26T16:14:41.100226Z",
     "start_time": "2024-12-26T16:14:41.097413Z"
    }
   },
   "cell_type": "code",
   "source": [
    "import vertexai\n",
    "vertexai.init(project=google_project_id, location=google_location)"
   ],
   "id": "beed4e65b213b832",
   "outputs": [],
   "execution_count": 4
  },
  {
   "metadata": {
    "ExecuteTime": {
     "end_time": "2024-12-26T16:14:42.166728Z",
     "start_time": "2024-12-26T16:14:42.118137Z"
    }
   },
   "cell_type": "code",
   "source": [
    "from IPython.display import Markdown, display\n",
    "from rich.markdown import Markdown as rich_Markdown\n",
    "from vertexai.generative_models import GenerationConfig, GenerativeModel, Image\n",
    "\n",
    "text_model = GenerativeModel(\"gemini-1.5-pro\")\n",
    "multimodal_model = GenerativeModel(\"gemini-1.5-pro\")\n",
    "multimodal_model_flash = GenerativeModel(\"gemini-1.5-flash\")\n"
   ],
   "id": "c43a5a168a7a29f4",
   "outputs": [],
   "execution_count": 5
  },
  {
   "metadata": {
    "ExecuteTime": {
     "end_time": "2024-12-26T16:14:43.471943Z",
     "start_time": "2024-12-26T16:14:43.469039Z"
    }
   },
   "cell_type": "code",
   "source": [
    "image_description_prompt = \"\"\"Explain what is going on in the image.\n",
    "If it's a table, extract all elements of the table.\n",
    "If it's a graph, explain the findings in the graph.\n",
    "Do not include any numbers that are not mentioned in the image.\n",
    "\"\"\""
   ],
   "id": "185402f0e16fd152",
   "outputs": [],
   "execution_count": 6
  },
  {
   "metadata": {
    "ExecuteTime": {
     "end_time": "2024-12-26T16:33:42.822324Z",
     "start_time": "2024-12-26T16:29:26.202914Z"
    }
   },
   "cell_type": "code",
   "source": [
    "from helpers import get_document_metadata\n",
    "\n",
    "# Extract text and image metadata from the PDF document\n",
    "text_metadata_df, image_metadata_df = get_document_metadata(\n",
    "    multimodal_model,\n",
    "    './pdf',\n",
    "    image_save_dir=\"./images\",\n",
    "    image_description_prompt=image_description_prompt,\n",
    "    embedding_size=1408,\n",
    "    # add_sleep_after_page = True, # Uncomment this if you are running into API quota issues\n",
    "    # sleep_time_after_page = 5,\n",
    "    # generation_config = # see next cell\n",
    "    # safety_settings =  # see next cell\n",
    ")"
   ],
   "id": "8fc0261a00e7fb92",
   "outputs": [
    {
     "name": "stdout",
     "output_type": "stream",
     "text": [
      "\n",
      "\n",
      " Processing the file: --------------------------------- ./pdf/epam-report.pdf \n",
      "\n",
      "\n",
      "Processing page: 1\n",
      "Extracting image from page: 1, saved as: ./images/epam-report.pdf_image_0_0_9.jpeg\n",
      "Processing page: 2\n",
      "Processing page: 3\n",
      "Processing page: 4\n",
      "Processing page: 5\n"
     ]
    }
   ],
   "execution_count": 10
  },
  {
   "metadata": {
    "ExecuteTime": {
     "end_time": "2024-12-26T16:36:16.272435Z",
     "start_time": "2024-12-26T16:36:16.257510Z"
    }
   },
   "cell_type": "code",
   "source": "text_metadata_df.head()",
   "id": "6f1368751f48889e",
   "outputs": [
    {
     "data": {
      "text/plain": [
       "         file_name  page_num  \\\n",
       "0  epam-report.pdf         1   \n",
       "1  epam-report.pdf         1   \n",
       "2  epam-report.pdf         1   \n",
       "3  epam-report.pdf         1   \n",
       "4  epam-report.pdf         1   \n",
       "\n",
       "                                                text  \\\n",
       "0  V I E W  A L L  N E W S\\nD ATE\\nNovember 7, 20...   \n",
       "1  V I E W  A L L  N E W S\\nD ATE\\nNovember 7, 20...   \n",
       "2  V I E W  A L L  N E W S\\nD ATE\\nNovember 7, 20...   \n",
       "3  V I E W  A L L  N E W S\\nD ATE\\nNovember 7, 20...   \n",
       "4  V I E W  A L L  N E W S\\nD ATE\\nNovember 7, 20...   \n",
       "\n",
       "                                 text_embedding_page  chunk_number  \\\n",
       "0  [-0.019254421815276146, -0.026206426322460175,...             1   \n",
       "1  [-0.019254421815276146, -0.026206426322460175,...             2   \n",
       "2  [-0.019254421815276146, -0.026206426322460175,...             3   \n",
       "3  [-0.019254421815276146, -0.026206426322460175,...             4   \n",
       "4  [-0.019254421815276146, -0.026206426322460175,...             5   \n",
       "\n",
       "                                          chunk_text  \\\n",
       "0  V I E W  A L L  N E W S\\nD ATE\\nNovember 7, 20...   \n",
       "1  PAM Systems, Inc. (NYSE: EPAM), a leading digi...   \n",
       "2  uarter of 2023;\\nWe recorded a benefit of $52....   \n",
       "3  ion, an increase of $63.0 million, or 55.2%, c...   \n",
       "4  ncrease to the effective tax rate;\\nNon-GAAP d...   \n",
       "\n",
       "                                text_embedding_chunk  \n",
       "0  [-0.01310722902417183, -0.013363610953092575, ...  \n",
       "1  [-0.001168870716355741, -0.05384514853358269, ...  \n",
       "2  [-0.01423549372702837, -0.026544077321887016, ...  \n",
       "3  [-0.009012407623231411, -0.01399849634617567, ...  \n",
       "4  [-0.005996230058372021, -0.01537022739648819, ...  "
      ],
      "text/html": [
       "<div>\n",
       "<style scoped>\n",
       "    .dataframe tbody tr th:only-of-type {\n",
       "        vertical-align: middle;\n",
       "    }\n",
       "\n",
       "    .dataframe tbody tr th {\n",
       "        vertical-align: top;\n",
       "    }\n",
       "\n",
       "    .dataframe thead th {\n",
       "        text-align: right;\n",
       "    }\n",
       "</style>\n",
       "<table border=\"1\" class=\"dataframe\">\n",
       "  <thead>\n",
       "    <tr style=\"text-align: right;\">\n",
       "      <th></th>\n",
       "      <th>file_name</th>\n",
       "      <th>page_num</th>\n",
       "      <th>text</th>\n",
       "      <th>text_embedding_page</th>\n",
       "      <th>chunk_number</th>\n",
       "      <th>chunk_text</th>\n",
       "      <th>text_embedding_chunk</th>\n",
       "    </tr>\n",
       "  </thead>\n",
       "  <tbody>\n",
       "    <tr>\n",
       "      <th>0</th>\n",
       "      <td>epam-report.pdf</td>\n",
       "      <td>1</td>\n",
       "      <td>V I E W  A L L  N E W S\\nD ATE\\nNovember 7, 20...</td>\n",
       "      <td>[-0.019254421815276146, -0.026206426322460175,...</td>\n",
       "      <td>1</td>\n",
       "      <td>V I E W  A L L  N E W S\\nD ATE\\nNovember 7, 20...</td>\n",
       "      <td>[-0.01310722902417183, -0.013363610953092575, ...</td>\n",
       "    </tr>\n",
       "    <tr>\n",
       "      <th>1</th>\n",
       "      <td>epam-report.pdf</td>\n",
       "      <td>1</td>\n",
       "      <td>V I E W  A L L  N E W S\\nD ATE\\nNovember 7, 20...</td>\n",
       "      <td>[-0.019254421815276146, -0.026206426322460175,...</td>\n",
       "      <td>2</td>\n",
       "      <td>PAM Systems, Inc. (NYSE: EPAM), a leading digi...</td>\n",
       "      <td>[-0.001168870716355741, -0.05384514853358269, ...</td>\n",
       "    </tr>\n",
       "    <tr>\n",
       "      <th>2</th>\n",
       "      <td>epam-report.pdf</td>\n",
       "      <td>1</td>\n",
       "      <td>V I E W  A L L  N E W S\\nD ATE\\nNovember 7, 20...</td>\n",
       "      <td>[-0.019254421815276146, -0.026206426322460175,...</td>\n",
       "      <td>3</td>\n",
       "      <td>uarter of 2023;\\nWe recorded a benefit of $52....</td>\n",
       "      <td>[-0.01423549372702837, -0.026544077321887016, ...</td>\n",
       "    </tr>\n",
       "    <tr>\n",
       "      <th>3</th>\n",
       "      <td>epam-report.pdf</td>\n",
       "      <td>1</td>\n",
       "      <td>V I E W  A L L  N E W S\\nD ATE\\nNovember 7, 20...</td>\n",
       "      <td>[-0.019254421815276146, -0.026206426322460175,...</td>\n",
       "      <td>4</td>\n",
       "      <td>ion, an increase of $63.0 million, or 55.2%, c...</td>\n",
       "      <td>[-0.009012407623231411, -0.01399849634617567, ...</td>\n",
       "    </tr>\n",
       "    <tr>\n",
       "      <th>4</th>\n",
       "      <td>epam-report.pdf</td>\n",
       "      <td>1</td>\n",
       "      <td>V I E W  A L L  N E W S\\nD ATE\\nNovember 7, 20...</td>\n",
       "      <td>[-0.019254421815276146, -0.026206426322460175,...</td>\n",
       "      <td>5</td>\n",
       "      <td>ncrease to the effective tax rate;\\nNon-GAAP d...</td>\n",
       "      <td>[-0.005996230058372021, -0.01537022739648819, ...</td>\n",
       "    </tr>\n",
       "  </tbody>\n",
       "</table>\n",
       "</div>"
      ]
     },
     "execution_count": 11,
     "metadata": {},
     "output_type": "execute_result"
    }
   ],
   "execution_count": 11
  },
  {
   "metadata": {
    "ExecuteTime": {
     "end_time": "2024-12-26T16:36:34.585944Z",
     "start_time": "2024-12-26T16:36:34.579790Z"
    }
   },
   "cell_type": "code",
   "source": "image_metadata_df.head()",
   "id": "d0b893e6f7694181",
   "outputs": [
    {
     "data": {
      "text/plain": [
       "         file_name  page_num  img_num  \\\n",
       "0  epam-report.pdf         1        1   \n",
       "\n",
       "                                    img_path  \\\n",
       "0  ./images/epam-report.pdf_image_0_0_9.jpeg   \n",
       "\n",
       "                                            img_desc  \\\n",
       "0  The image presents a financial report from EPA...   \n",
       "\n",
       "                          mm_embedding_from_img_only  \\\n",
       "0  [-0.00892232917, 0.015445943, 0.00693804584, -...   \n",
       "\n",
       "               text_embedding_from_image_description  \n",
       "0  [-0.018329229205846786, -0.003188361646607518,...  "
      ],
      "text/html": [
       "<div>\n",
       "<style scoped>\n",
       "    .dataframe tbody tr th:only-of-type {\n",
       "        vertical-align: middle;\n",
       "    }\n",
       "\n",
       "    .dataframe tbody tr th {\n",
       "        vertical-align: top;\n",
       "    }\n",
       "\n",
       "    .dataframe thead th {\n",
       "        text-align: right;\n",
       "    }\n",
       "</style>\n",
       "<table border=\"1\" class=\"dataframe\">\n",
       "  <thead>\n",
       "    <tr style=\"text-align: right;\">\n",
       "      <th></th>\n",
       "      <th>file_name</th>\n",
       "      <th>page_num</th>\n",
       "      <th>img_num</th>\n",
       "      <th>img_path</th>\n",
       "      <th>img_desc</th>\n",
       "      <th>mm_embedding_from_img_only</th>\n",
       "      <th>text_embedding_from_image_description</th>\n",
       "    </tr>\n",
       "  </thead>\n",
       "  <tbody>\n",
       "    <tr>\n",
       "      <th>0</th>\n",
       "      <td>epam-report.pdf</td>\n",
       "      <td>1</td>\n",
       "      <td>1</td>\n",
       "      <td>./images/epam-report.pdf_image_0_0_9.jpeg</td>\n",
       "      <td>The image presents a financial report from EPA...</td>\n",
       "      <td>[-0.00892232917, 0.015445943, 0.00693804584, -...</td>\n",
       "      <td>[-0.018329229205846786, -0.003188361646607518,...</td>\n",
       "    </tr>\n",
       "  </tbody>\n",
       "</table>\n",
       "</div>"
      ]
     },
     "execution_count": 12,
     "metadata": {},
     "output_type": "execute_result"
    }
   ],
   "execution_count": 12
  },
  {
   "metadata": {
    "ExecuteTime": {
     "end_time": "2024-12-26T16:38:07.957262Z",
     "start_time": "2024-12-26T16:38:07.635345Z"
    }
   },
   "cell_type": "code",
   "source": [
    "from helpers import (\n",
    "    display_images,\n",
    "    get_gemini_response,\n",
    "    get_similar_image_from_query,\n",
    "    get_similar_text_from_query,\n",
    "    print_text_to_image_citation,\n",
    "    print_text_to_text_citation,\n",
    ")\n",
    "\n",
    "query = \"I need details for basic and diluted net income for EPAM?\"\n",
    "\n",
    "matching_results_text = get_similar_text_from_query(\n",
    "    query,\n",
    "    text_metadata_df,\n",
    "    column_name=\"text_embedding_chunk\",\n",
    "    top_n=3,\n",
    "    chunk_text=True,\n",
    ")\n",
    "\n",
    "# Print the matched text citations\n",
    "print_text_to_text_citation(matching_results_text, print_top=False, chunk_text=True)"
   ],
   "id": "814ae46e235aa98b",
   "outputs": [
    {
     "name": "stdout",
     "output_type": "stream",
     "text": [
      "\u001B[91mCitation 1: Matched text: \n",
      "\u001B[0m\n",
      "\u001B[94mscore: \u001B[0m 0.76\n",
      "\u001B[94mfile_name: \u001B[0m epam-report.pdf\n",
      "\u001B[94mpage_number: \u001B[0m 2\n",
      "\u001B[94mchunk_number: \u001B[0m 5\n",
      "\u001B[94mchunk_text: \u001B[0m nderlying trends in EPAM's business and uses the measures to establish\n",
      "budgets and operational goals, communicate internally and externally, for managing EPAM's business and evaluating its performance. Management also\n",
      "believes these measures help investors compare EPAM's operating performance with its results in prior periods. EPAM anticipates that it will continue to\n",
      "report both GAAP and certain non-GAAP financial measures in its financial results, including non-GAAP results that exclude stock-based compensation\n",
      "expenses, acquisition-related costs including amortization of acquired intangible assets, impairment of assets, expenses associated with EPAM's\n",
      "humanitarian commitment to its professionals in Ukraine, unbilled business continuity resources resulting from Russia's invasion of Ukraine, costs\n",
      "associated with the geographic repositioning of EPAM employees based outside of Ukraine impacted by the war and geopolitical instability in the region,\n",
      "employee separation costs incurred in \n",
      "\u001B[91mCitation 2: Matched text: \n",
      "\u001B[0m\n",
      "\u001B[94mscore: \u001B[0m 0.76\n",
      "\u001B[94mfile_name: \u001B[0m epam-report.pdf\n",
      "\u001B[94mpage_number: \u001B[0m 2\n",
      "\u001B[94mchunk_number: \u001B[0m 10\n",
      "\u001B[94mchunk_text: \u001B[0m eral risks and uncertainties\n",
      "and are made based on information currently available to us. EPAM undertakes no obligation to update or revise any forward-looking statements, whether\n",
      "as a result of new information, future events, or otherwise, except as may be required under applicable securities law.\n",
      "EPAM SYSTEMS, INC. AND SUBSIDIARIES\n",
      "CONDENSED CONSOLIDATED STATEMENTS OF INCOME\n",
      "(Unaudited)\n",
      "(Inthousands, except per share data)\n",
      "Three Months Ended\n",
      "September 30,\n",
      "Nine Months Ended\n",
      "September 30,\n",
      "2024\n",
      "2023\n",
      "2024\n",
      "2023\n",
      "Revenues\n",
      "$ 1,167,527\n",
      "$ 1,152,136\n",
      "$ 3,479,589\n",
      "$ 3,533,283\n",
      "Operating expenses:\n",
      "Cost of revenues (exclusive of depreciation and amortization)\n",
      "763,992\n",
      "794,265\n",
      "2,409,183\n",
      "2,458,881\n",
      "Selling, general and administrative expenses\n",
      "206,820\n",
      "194,829\n",
      "599,331\n",
      "601,093\n",
      "Depreciation and amortization expense\n",
      "19,736\n",
      "23,092\n",
      "63,003\n",
      "68,642\n",
      "Loss on sale of business\n",
      "\n",
      "25,922\n",
      "\n",
      "25,922\n",
      "Income from operations\n",
      "176,979\n",
      "114,028\n",
      "408,072\n",
      "378,745\n",
      "Interest and other income, net\n",
      "13,347\n",
      "13,931\n",
      "40,425\n",
      "37,162\n",
      "Foreign excha\n",
      "\u001B[91mCitation 3: Matched text: \n",
      "\u001B[0m\n",
      "\u001B[94mscore: \u001B[0m 0.75\n",
      "\u001B[94mfile_name: \u001B[0m epam-report.pdf\n",
      "\u001B[94mpage_number: \u001B[0m 1\n",
      "\u001B[94mchunk_number: \u001B[0m 1\n",
      "\u001B[94mchunk_text: \u001B[0m V I E W  A L L  N E W S\n",
      "D ATE\n",
      "November 7, 2024\n",
      "Third quarter revenues of $1.168 billion, up 1.3% year-over-year\n",
      "GAAP income from operations was 15.2% of revenues and non-GAAP income from operations was 19.1% of revenues for the third quarter\n",
      "Third quarter GAAP diluted EPS of $2.37, an increase of $0.72, and non-GAAP diluted EPS of $3.12, an increase of $0.39 on a year-over-year\n",
      "basis\n",
      "For the full year, EPAM increases expected range for revenues to now be $4.685 billion to $4.695 billion, increases expected GAAP diluted\n",
      "EPS to now be in the range of $7.78 to $7.86 and non-GAAP diluted EPS to now be in the range of $10.73 to $10.81\n",
      "For the fourth quarter, EPAM expects revenues to be in the range of $1.205 billion to $1.215 billion, GAAP diluted EPS to be in the range of\n",
      "$1.73 to $1.81 and non-GAAP diluted EPS to be in the range of $2.70 to $2.78\n",
      "NEWTOWN, Pa., Nov. 7, 2024 /PRNewswire/ -- EPAM Systems, Inc. (NYSE: EPAM), a leading digital transformation services and product engineering\n",
      "co\n"
     ]
    }
   ],
   "execution_count": 14
  },
  {
   "metadata": {
    "ExecuteTime": {
     "end_time": "2024-12-26T16:40:50.247051Z",
     "start_time": "2024-12-26T16:38:48.652322Z"
    }
   },
   "cell_type": "code",
   "source": [
    "print(\"\\n **** Result: ***** \\n\")\n",
    "\n",
    "# All relevant text chunk found across documents based on user query\n",
    "context = \"\\n\".join(\n",
    "    [value[\"chunk_text\"] for key, value in matching_results_text.items()]\n",
    ")\n",
    "\n",
    "instruction = f\"\"\"Answer the question with the given context.\n",
    "If the information is not available in the context, just return \"not available in the context\".\n",
    "Question: {query}\n",
    "Context: {context}\n",
    "Answer:\n",
    "\"\"\"\n",
    "\n",
    "# Prepare the model input\n",
    "model_input = instruction\n",
    "\n",
    "# Generate Gemini response with streaming output\n",
    "get_gemini_response(\n",
    "    text_model,  # we are passing Gemini 1.0 Pro\n",
    "    model_input=model_input,\n",
    "    stream=True,\n",
    "    generation_config=GenerationConfig(temperature=0.2),\n",
    ")"
   ],
   "id": "d18921a2ae7bc1c9",
   "outputs": [
    {
     "name": "stdout",
     "output_type": "stream",
     "text": [
      "\n",
      " **** Result: ***** \n",
      "\n"
     ]
    },
    {
     "data": {
      "text/plain": [
       "\"The provided text gives information about EPAM's non-GAAP diluted EPS, but does not contain the values for basic and diluted net income. Thus, the answer is **not available in the context**. \\n\""
      ]
     },
     "execution_count": 15,
     "metadata": {},
     "output_type": "execute_result"
    }
   ],
   "execution_count": 15
  }
 ],
 "metadata": {
  "kernelspec": {
   "display_name": "Python 3",
   "language": "python",
   "name": "python3"
  },
  "language_info": {
   "codemirror_mode": {
    "name": "ipython",
    "version": 2
   },
   "file_extension": ".py",
   "mimetype": "text/x-python",
   "name": "python",
   "nbconvert_exporter": "python",
   "pygments_lexer": "ipython2",
   "version": "2.7.6"
  }
 },
 "nbformat": 4,
 "nbformat_minor": 5
}

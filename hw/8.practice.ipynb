{
 "cells": [
  {
   "metadata": {
    "ExecuteTime": {
     "end_time": "2024-12-26T14:31:37.697231Z",
     "start_time": "2024-12-26T14:31:36.517727Z"
    }
   },
   "cell_type": "code",
   "source": "%pip install --upgrade --user google-cloud-aiplatform pymupdf rich colorama",
   "id": "c4f417283cd642b9",
   "outputs": [
    {
     "name": "stdout",
     "output_type": "stream",
     "text": [
      "Requirement already satisfied: google-cloud-aiplatform in /Users/marshinov/Library/Python/3.9/lib/python/site-packages (1.75.0)\r\n",
      "Requirement already satisfied: pymupdf in /Users/marshinov/Library/Python/3.9/lib/python/site-packages (1.25.1)\r\n",
      "Requirement already satisfied: rich in /Users/marshinov/Library/Python/3.9/lib/python/site-packages (13.9.4)\r\n",
      "Requirement already satisfied: colorama in /Users/marshinov/Library/Python/3.9/lib/python/site-packages (0.4.6)\r\n",
      "Requirement already satisfied: google-api-core!=2.0.*,!=2.1.*,!=2.2.*,!=2.3.*,!=2.4.*,!=2.5.*,!=2.6.*,!=2.7.*,<3.0.0dev,>=1.34.1 in /Users/marshinov/Library/Python/3.9/lib/python/site-packages (from google-api-core[grpc]!=2.0.*,!=2.1.*,!=2.2.*,!=2.3.*,!=2.4.*,!=2.5.*,!=2.6.*,!=2.7.*,<3.0.0dev,>=1.34.1->google-cloud-aiplatform) (2.24.0)\r\n",
      "Requirement already satisfied: google-auth<3.0.0dev,>=2.14.1 in /Users/marshinov/Library/Python/3.9/lib/python/site-packages (from google-cloud-aiplatform) (2.37.0)\r\n",
      "Requirement already satisfied: proto-plus<2.0.0dev,>=1.22.3 in /Users/marshinov/Library/Python/3.9/lib/python/site-packages (from google-cloud-aiplatform) (1.25.0)\r\n",
      "Requirement already satisfied: protobuf!=4.21.0,!=4.21.1,!=4.21.2,!=4.21.3,!=4.21.4,!=4.21.5,<6.0.0dev,>=3.20.2 in /Users/marshinov/Library/Python/3.9/lib/python/site-packages (from google-cloud-aiplatform) (5.29.2)\r\n",
      "Requirement already satisfied: packaging>=14.3 in /Users/marshinov/Library/Python/3.9/lib/python/site-packages (from google-cloud-aiplatform) (24.2)\r\n",
      "Requirement already satisfied: google-cloud-storage<3.0.0dev,>=1.32.0 in /Users/marshinov/Library/Python/3.9/lib/python/site-packages (from google-cloud-aiplatform) (2.19.0)\r\n",
      "Requirement already satisfied: google-cloud-bigquery!=3.20.0,<4.0.0dev,>=1.15.0 in /Users/marshinov/Library/Python/3.9/lib/python/site-packages (from google-cloud-aiplatform) (3.27.0)\r\n",
      "Requirement already satisfied: google-cloud-resource-manager<3.0.0dev,>=1.3.3 in /Users/marshinov/Library/Python/3.9/lib/python/site-packages (from google-cloud-aiplatform) (1.14.0)\r\n",
      "Requirement already satisfied: shapely<3.0.0dev in /Users/marshinov/Library/Python/3.9/lib/python/site-packages (from google-cloud-aiplatform) (2.0.6)\r\n",
      "Requirement already satisfied: pydantic<3 in /Users/marshinov/Library/Python/3.9/lib/python/site-packages (from google-cloud-aiplatform) (2.10.4)\r\n",
      "Requirement already satisfied: docstring-parser<1 in /Users/marshinov/Library/Python/3.9/lib/python/site-packages (from google-cloud-aiplatform) (0.16)\r\n",
      "Requirement already satisfied: markdown-it-py>=2.2.0 in /Users/marshinov/Library/Python/3.9/lib/python/site-packages (from rich) (3.0.0)\r\n",
      "Requirement already satisfied: pygments<3.0.0,>=2.13.0 in /Users/marshinov/Library/Python/3.9/lib/python/site-packages (from rich) (2.18.0)\r\n",
      "Requirement already satisfied: typing-extensions<5.0,>=4.0.0 in /Users/marshinov/Library/Python/3.9/lib/python/site-packages (from rich) (4.12.2)\r\n",
      "Requirement already satisfied: googleapis-common-protos<2.0.dev0,>=1.56.2 in /Users/marshinov/Library/Python/3.9/lib/python/site-packages (from google-api-core!=2.0.*,!=2.1.*,!=2.2.*,!=2.3.*,!=2.4.*,!=2.5.*,!=2.6.*,!=2.7.*,<3.0.0dev,>=1.34.1->google-api-core[grpc]!=2.0.*,!=2.1.*,!=2.2.*,!=2.3.*,!=2.4.*,!=2.5.*,!=2.6.*,!=2.7.*,<3.0.0dev,>=1.34.1->google-cloud-aiplatform) (1.66.0)\r\n",
      "Requirement already satisfied: requests<3.0.0.dev0,>=2.18.0 in /Users/marshinov/Library/Python/3.9/lib/python/site-packages (from google-api-core!=2.0.*,!=2.1.*,!=2.2.*,!=2.3.*,!=2.4.*,!=2.5.*,!=2.6.*,!=2.7.*,<3.0.0dev,>=1.34.1->google-api-core[grpc]!=2.0.*,!=2.1.*,!=2.2.*,!=2.3.*,!=2.4.*,!=2.5.*,!=2.6.*,!=2.7.*,<3.0.0dev,>=1.34.1->google-cloud-aiplatform) (2.32.3)\r\n",
      "Requirement already satisfied: grpcio<2.0dev,>=1.33.2 in /Users/marshinov/Library/Python/3.9/lib/python/site-packages (from google-api-core[grpc]!=2.0.*,!=2.1.*,!=2.2.*,!=2.3.*,!=2.4.*,!=2.5.*,!=2.6.*,!=2.7.*,<3.0.0dev,>=1.34.1->google-cloud-aiplatform) (1.68.1)\r\n",
      "Requirement already satisfied: grpcio-status<2.0.dev0,>=1.33.2 in /Users/marshinov/Library/Python/3.9/lib/python/site-packages (from google-api-core[grpc]!=2.0.*,!=2.1.*,!=2.2.*,!=2.3.*,!=2.4.*,!=2.5.*,!=2.6.*,!=2.7.*,<3.0.0dev,>=1.34.1->google-cloud-aiplatform) (1.68.1)\r\n",
      "Requirement already satisfied: cachetools<6.0,>=2.0.0 in /Users/marshinov/Library/Python/3.9/lib/python/site-packages (from google-auth<3.0.0dev,>=2.14.1->google-cloud-aiplatform) (5.5.0)\r\n",
      "Requirement already satisfied: pyasn1-modules>=0.2.1 in /Users/marshinov/Library/Python/3.9/lib/python/site-packages (from google-auth<3.0.0dev,>=2.14.1->google-cloud-aiplatform) (0.4.1)\r\n",
      "Requirement already satisfied: rsa<5,>=3.1.4 in /Users/marshinov/Library/Python/3.9/lib/python/site-packages (from google-auth<3.0.0dev,>=2.14.1->google-cloud-aiplatform) (4.9)\r\n",
      "Requirement already satisfied: google-cloud-core<3.0.0dev,>=2.4.1 in /Users/marshinov/Library/Python/3.9/lib/python/site-packages (from google-cloud-bigquery!=3.20.0,<4.0.0dev,>=1.15.0->google-cloud-aiplatform) (2.4.1)\r\n",
      "Requirement already satisfied: google-resumable-media<3.0dev,>=2.0.0 in /Users/marshinov/Library/Python/3.9/lib/python/site-packages (from google-cloud-bigquery!=3.20.0,<4.0.0dev,>=1.15.0->google-cloud-aiplatform) (2.7.2)\r\n",
      "Requirement already satisfied: python-dateutil<3.0dev,>=2.7.3 in /Users/marshinov/Library/Python/3.9/lib/python/site-packages (from google-cloud-bigquery!=3.20.0,<4.0.0dev,>=1.15.0->google-cloud-aiplatform) (2.9.0.post0)\r\n",
      "Requirement already satisfied: grpc-google-iam-v1<1.0.0dev,>=0.12.4 in /Users/marshinov/Library/Python/3.9/lib/python/site-packages (from google-cloud-resource-manager<3.0.0dev,>=1.3.3->google-cloud-aiplatform) (0.13.1)\r\n",
      "Requirement already satisfied: google-crc32c<2.0dev,>=1.0 in /Users/marshinov/Library/Python/3.9/lib/python/site-packages (from google-cloud-storage<3.0.0dev,>=1.32.0->google-cloud-aiplatform) (1.6.0)\r\n",
      "Requirement already satisfied: mdurl~=0.1 in /Users/marshinov/Library/Python/3.9/lib/python/site-packages (from markdown-it-py>=2.2.0->rich) (0.1.2)\r\n",
      "Requirement already satisfied: annotated-types>=0.6.0 in /Users/marshinov/Library/Python/3.9/lib/python/site-packages (from pydantic<3->google-cloud-aiplatform) (0.7.0)\r\n",
      "Requirement already satisfied: pydantic-core==2.27.2 in /Users/marshinov/Library/Python/3.9/lib/python/site-packages (from pydantic<3->google-cloud-aiplatform) (2.27.2)\r\n",
      "Requirement already satisfied: numpy<3,>=1.14 in /Users/marshinov/Library/Python/3.9/lib/python/site-packages (from shapely<3.0.0dev->google-cloud-aiplatform) (1.26.4)\r\n",
      "Requirement already satisfied: pyasn1<0.7.0,>=0.4.6 in /Users/marshinov/Library/Python/3.9/lib/python/site-packages (from pyasn1-modules>=0.2.1->google-auth<3.0.0dev,>=2.14.1->google-cloud-aiplatform) (0.6.1)\r\n",
      "Requirement already satisfied: six>=1.5 in /Applications/Xcode.app/Contents/Developer/Library/Frameworks/Python3.framework/Versions/3.9/lib/python3.9/site-packages (from python-dateutil<3.0dev,>=2.7.3->google-cloud-bigquery!=3.20.0,<4.0.0dev,>=1.15.0->google-cloud-aiplatform) (1.15.0)\r\n",
      "Requirement already satisfied: charset-normalizer<4,>=2 in /Users/marshinov/Library/Python/3.9/lib/python/site-packages (from requests<3.0.0.dev0,>=2.18.0->google-api-core!=2.0.*,!=2.1.*,!=2.2.*,!=2.3.*,!=2.4.*,!=2.5.*,!=2.6.*,!=2.7.*,<3.0.0dev,>=1.34.1->google-api-core[grpc]!=2.0.*,!=2.1.*,!=2.2.*,!=2.3.*,!=2.4.*,!=2.5.*,!=2.6.*,!=2.7.*,<3.0.0dev,>=1.34.1->google-cloud-aiplatform) (3.4.0)\r\n",
      "Requirement already satisfied: idna<4,>=2.5 in /Users/marshinov/Library/Python/3.9/lib/python/site-packages (from requests<3.0.0.dev0,>=2.18.0->google-api-core!=2.0.*,!=2.1.*,!=2.2.*,!=2.3.*,!=2.4.*,!=2.5.*,!=2.6.*,!=2.7.*,<3.0.0dev,>=1.34.1->google-api-core[grpc]!=2.0.*,!=2.1.*,!=2.2.*,!=2.3.*,!=2.4.*,!=2.5.*,!=2.6.*,!=2.7.*,<3.0.0dev,>=1.34.1->google-cloud-aiplatform) (3.10)\r\n",
      "Requirement already satisfied: urllib3<3,>=1.21.1 in /Users/marshinov/Library/Python/3.9/lib/python/site-packages (from requests<3.0.0.dev0,>=2.18.0->google-api-core!=2.0.*,!=2.1.*,!=2.2.*,!=2.3.*,!=2.4.*,!=2.5.*,!=2.6.*,!=2.7.*,<3.0.0dev,>=1.34.1->google-api-core[grpc]!=2.0.*,!=2.1.*,!=2.2.*,!=2.3.*,!=2.4.*,!=2.5.*,!=2.6.*,!=2.7.*,<3.0.0dev,>=1.34.1->google-cloud-aiplatform) (2.2.3)\r\n",
      "Requirement already satisfied: certifi>=2017.4.17 in /Users/marshinov/Library/Python/3.9/lib/python/site-packages (from requests<3.0.0.dev0,>=2.18.0->google-api-core!=2.0.*,!=2.1.*,!=2.2.*,!=2.3.*,!=2.4.*,!=2.5.*,!=2.6.*,!=2.7.*,<3.0.0dev,>=1.34.1->google-api-core[grpc]!=2.0.*,!=2.1.*,!=2.2.*,!=2.3.*,!=2.4.*,!=2.5.*,!=2.6.*,!=2.7.*,<3.0.0dev,>=1.34.1->google-cloud-aiplatform) (2024.12.14)\r\n",
      "Note: you may need to restart the kernel to use updated packages.\n"
     ]
    }
   ],
   "execution_count": 40
  },
  {
   "metadata": {
    "ExecuteTime": {
     "end_time": "2024-12-26T15:36:27.331877Z",
     "start_time": "2024-12-26T15:36:27.327246Z"
    }
   },
   "cell_type": "code",
   "source": [
    "# Restart kernel after installs so that your environment can access the new packages\n",
    "import IPython\n",
    "\n",
    "app = IPython.Application.instance()\n",
    "app.kernel.do_shutdown(True)"
   ],
   "id": "821d8e8635f2aab6",
   "outputs": [
    {
     "data": {
      "text/plain": [
       "{'status': 'ok', 'restart': True}"
      ]
     },
     "execution_count": 4,
     "metadata": {},
     "output_type": "execute_result"
    }
   ],
   "execution_count": 4
  },
  {
   "metadata": {},
   "cell_type": "code",
   "source": [
    "import os\n",
    "os.environ[\"GOOGLE_APPLICATION_CREDENTIALS\"]=\"./key.json\"\n",
    "# %system ~/google-cloud-sdk/bin/gcloud auth application-default login"
   ],
   "id": "9a22979e81fc6c47",
   "outputs": [],
   "execution_count": 1
  },
  {
   "metadata": {
    "ExecuteTime": {
     "end_time": "2024-12-26T15:36:31.526534Z",
     "start_time": "2024-12-26T15:36:31.518496Z"
    }
   },
   "cell_type": "code",
   "source": [
    "from dotenv import load_dotenv\n",
    "import os\n",
    "\n",
    "load_dotenv()\n",
    "google_project_id = os.getenv('GOOGLE_PROJECT_ID')\n",
    "google_location = \"europe-west1\""
   ],
   "id": "3c790e1b8eeb803c",
   "outputs": [],
   "execution_count": 2
  },
  {
   "metadata": {
    "ExecuteTime": {
     "end_time": "2024-12-26T15:36:35.446273Z",
     "start_time": "2024-12-26T15:36:35.443292Z"
    }
   },
   "cell_type": "code",
   "source": [
    "import vertexai\n",
    "vertexai.init(project=google_project_id, location=google_location)"
   ],
   "id": "beed4e65b213b832",
   "outputs": [],
   "execution_count": 4
  },
  {
   "metadata": {
    "ExecuteTime": {
     "end_time": "2024-12-26T15:36:37.637461Z",
     "start_time": "2024-12-26T15:36:37.572555Z"
    }
   },
   "cell_type": "code",
   "source": [
    "from IPython.display import Markdown, display\n",
    "from rich.markdown import Markdown as rich_Markdown\n",
    "from vertexai.generative_models import GenerationConfig, GenerativeModel, Image\n",
    "\n",
    "text_model = GenerativeModel(\"gemini-1.5-pro\")\n",
    "multimodal_model = GenerativeModel(\"gemini-1.5-pro\")\n",
    "multimodal_model_flash = GenerativeModel(\"gemini-1.5-flash\")\n"
   ],
   "id": "c43a5a168a7a29f4",
   "outputs": [],
   "execution_count": 5
  },
  {
   "metadata": {
    "ExecuteTime": {
     "end_time": "2024-12-26T15:36:40.513916Z",
     "start_time": "2024-12-26T15:36:40.510819Z"
    }
   },
   "cell_type": "code",
   "source": [
    "image_description_prompt = \"\"\"Explain what is going on in the image.\n",
    "If it's a table, extract all elements of the table.\n",
    "If it's a graph, explain the findings in the graph.\n",
    "Do not include any numbers that are not mentioned in the image.\n",
    "\"\"\""
   ],
   "id": "185402f0e16fd152",
   "outputs": [],
   "execution_count": 7
  },
  {
   "metadata": {
    "jupyter": {
     "is_executing": true
    },
    "ExecuteTime": {
     "start_time": "2024-12-26T15:36:42.587420Z"
    }
   },
   "cell_type": "code",
   "source": [
    "from helpers import get_document_metadata\n",
    "\n",
    "# Extract text and image metadata from the PDF document\n",
    "text_metadata_df, image_metadata_df = get_document_metadata(\n",
    "    multimodal_model,\n",
    "    './pdf',\n",
    "    image_save_dir=\"./images\",\n",
    "    image_description_prompt=image_description_prompt,\n",
    "    embedding_size=1408,\n",
    "    # add_sleep_after_page = True, # Uncomment this if you are running into API quota issues\n",
    "    # sleep_time_after_page = 5,\n",
    "    # generation_config = # see next cell\n",
    "    # safety_settings =  # see next cell\n",
    ")"
   ],
   "id": "8fc0261a00e7fb92",
   "outputs": [],
   "execution_count": null
  }
 ],
 "metadata": {
  "kernelspec": {
   "display_name": "Python 3",
   "language": "python",
   "name": "python3"
  },
  "language_info": {
   "codemirror_mode": {
    "name": "ipython",
    "version": 2
   },
   "file_extension": ".py",
   "mimetype": "text/x-python",
   "name": "python",
   "nbconvert_exporter": "python",
   "pygments_lexer": "ipython2",
   "version": "2.7.6"
  }
 },
 "nbformat": 4,
 "nbformat_minor": 5
}

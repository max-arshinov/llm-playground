{
 "cells": [
  {
   "metadata": {
    "ExecuteTime": {
     "end_time": "2024-12-26T10:05:57.603719Z",
     "start_time": "2024-12-26T10:05:56.381817Z"
    }
   },
   "cell_type": "code",
   "source": "%system kaggle datasets download -d snehaanbhawal/resume-dataset",
   "id": "a45ce8de58f53ba",
   "outputs": [
    {
     "data": {
      "text/plain": [
       "['Dataset URL: https://www.kaggle.com/datasets/snehaanbhawal/resume-dataset',\n",
       " 'License(s): CC0-1.0',\n",
       " 'resume-dataset.zip: Skipping, found more recently modified local copy (use --force to force download)']"
      ]
     },
     "execution_count": 19,
     "metadata": {},
     "output_type": "execute_result"
    }
   ],
   "execution_count": 19
  },
  {
   "metadata": {
    "ExecuteTime": {
     "end_time": "2024-12-26T10:13:06.257789Z",
     "start_time": "2024-12-26T10:13:06.131401Z"
    }
   },
   "cell_type": "code",
   "source": "%system unzip 'resume-dataset.zip'",
   "id": "ae852a33a6229c4d",
   "outputs": [
    {
     "data": {
      "text/plain": [
       "['Archive:  resume-dataset.zip',\n",
       " 'replace Resume/Resume.csv? [y]es, [n]o, [A]ll, [N]one, [r]ename:  NULL',\n",
       " '(EOF or read error, treating as \"[N]one\" ...)']"
      ]
     },
     "execution_count": 21,
     "metadata": {},
     "output_type": "execute_result"
    }
   ],
   "execution_count": 21
  },
  {
   "metadata": {
    "ExecuteTime": {
     "end_time": "2024-12-26T10:13:55.244636Z",
     "start_time": "2024-12-26T10:13:54.365538Z"
    }
   },
   "cell_type": "code",
   "outputs": [
    {
     "name": "stdout",
     "output_type": "stream",
     "text": [
      "Defaulting to user installation because normal site-packages is not writeable\r\n",
      "Requirement already satisfied: langchain in /Users/marshinov/Library/Python/3.9/lib/python/site-packages (0.3.13)\r\n",
      "Requirement already satisfied: openai in /Users/marshinov/Library/Python/3.9/lib/python/site-packages (1.58.1)\r\n",
      "Requirement already satisfied: pandas in /Users/marshinov/Library/Python/3.9/lib/python/site-packages (2.2.3)\r\n",
      "Requirement already satisfied: matplotlib in /Users/marshinov/Library/Python/3.9/lib/python/site-packages (3.9.4)\r\n",
      "Requirement already satisfied: seaborn in /Users/marshinov/Library/Python/3.9/lib/python/site-packages (0.13.2)\r\n",
      "Requirement already satisfied: scikit-learn in /Users/marshinov/Library/Python/3.9/lib/python/site-packages (1.6.0)\r\n",
      "Requirement already satisfied: PyYAML>=5.3 in /Users/marshinov/Library/Python/3.9/lib/python/site-packages (from langchain) (6.0.2)\r\n",
      "Requirement already satisfied: SQLAlchemy<3,>=1.4 in /Users/marshinov/Library/Python/3.9/lib/python/site-packages (from langchain) (2.0.36)\r\n",
      "Requirement already satisfied: aiohttp<4.0.0,>=3.8.3 in /Users/marshinov/Library/Python/3.9/lib/python/site-packages (from langchain) (3.11.11)\r\n",
      "Requirement already satisfied: async-timeout<5.0.0,>=4.0.0 in /Users/marshinov/Library/Python/3.9/lib/python/site-packages (from langchain) (4.0.3)\r\n",
      "Requirement already satisfied: langchain-core<0.4.0,>=0.3.26 in /Users/marshinov/Library/Python/3.9/lib/python/site-packages (from langchain) (0.3.28)\r\n",
      "Requirement already satisfied: langchain-text-splitters<0.4.0,>=0.3.3 in /Users/marshinov/Library/Python/3.9/lib/python/site-packages (from langchain) (0.3.4)\r\n",
      "Requirement already satisfied: langsmith<0.3,>=0.1.17 in /Users/marshinov/Library/Python/3.9/lib/python/site-packages (from langchain) (0.2.6)\r\n",
      "Requirement already satisfied: numpy<2,>=1.22.4 in /Users/marshinov/Library/Python/3.9/lib/python/site-packages (from langchain) (1.26.4)\r\n",
      "Requirement already satisfied: pydantic<3.0.0,>=2.7.4 in /Users/marshinov/Library/Python/3.9/lib/python/site-packages (from langchain) (2.10.4)\r\n",
      "Requirement already satisfied: requests<3,>=2 in /Users/marshinov/Library/Python/3.9/lib/python/site-packages (from langchain) (2.32.3)\r\n",
      "Requirement already satisfied: tenacity!=8.4.0,<10,>=8.1.0 in /Users/marshinov/Library/Python/3.9/lib/python/site-packages (from langchain) (9.0.0)\r\n",
      "Requirement already satisfied: anyio<5,>=3.5.0 in /Users/marshinov/Library/Python/3.9/lib/python/site-packages (from openai) (4.7.0)\r\n",
      "Requirement already satisfied: distro<2,>=1.7.0 in /Users/marshinov/Library/Python/3.9/lib/python/site-packages (from openai) (1.9.0)\r\n",
      "Requirement already satisfied: httpx<1,>=0.23.0 in /Users/marshinov/Library/Python/3.9/lib/python/site-packages (from openai) (0.28.1)\r\n",
      "Requirement already satisfied: jiter<1,>=0.4.0 in /Users/marshinov/Library/Python/3.9/lib/python/site-packages (from openai) (0.8.2)\r\n",
      "Requirement already satisfied: sniffio in /Users/marshinov/Library/Python/3.9/lib/python/site-packages (from openai) (1.3.1)\r\n",
      "Requirement already satisfied: tqdm>4 in /Users/marshinov/Library/Python/3.9/lib/python/site-packages (from openai) (4.67.1)\r\n",
      "Requirement already satisfied: typing-extensions<5,>=4.11 in /Users/marshinov/Library/Python/3.9/lib/python/site-packages (from openai) (4.12.2)\r\n",
      "Requirement already satisfied: python-dateutil>=2.8.2 in /Users/marshinov/Library/Python/3.9/lib/python/site-packages (from pandas) (2.9.0.post0)\r\n",
      "Requirement already satisfied: pytz>=2020.1 in /Users/marshinov/Library/Python/3.9/lib/python/site-packages (from pandas) (2024.2)\r\n",
      "Requirement already satisfied: tzdata>=2022.7 in /Users/marshinov/Library/Python/3.9/lib/python/site-packages (from pandas) (2024.2)\r\n",
      "Requirement already satisfied: contourpy>=1.0.1 in /Users/marshinov/Library/Python/3.9/lib/python/site-packages (from matplotlib) (1.3.0)\r\n",
      "Requirement already satisfied: cycler>=0.10 in /Users/marshinov/Library/Python/3.9/lib/python/site-packages (from matplotlib) (0.12.1)\r\n",
      "Requirement already satisfied: fonttools>=4.22.0 in /Users/marshinov/Library/Python/3.9/lib/python/site-packages (from matplotlib) (4.55.3)\r\n",
      "Requirement already satisfied: kiwisolver>=1.3.1 in /Users/marshinov/Library/Python/3.9/lib/python/site-packages (from matplotlib) (1.4.7)\r\n",
      "Requirement already satisfied: packaging>=20.0 in /Users/marshinov/Library/Python/3.9/lib/python/site-packages (from matplotlib) (24.2)\r\n",
      "Requirement already satisfied: pillow>=8 in /Users/marshinov/Library/Python/3.9/lib/python/site-packages (from matplotlib) (11.0.0)\r\n",
      "Requirement already satisfied: pyparsing>=2.3.1 in /Users/marshinov/Library/Python/3.9/lib/python/site-packages (from matplotlib) (3.2.0)\r\n",
      "Requirement already satisfied: importlib-resources>=3.2.0 in /Users/marshinov/Library/Python/3.9/lib/python/site-packages (from matplotlib) (6.4.5)\r\n",
      "Requirement already satisfied: scipy>=1.6.0 in /Users/marshinov/Library/Python/3.9/lib/python/site-packages (from scikit-learn) (1.13.1)\r\n",
      "Requirement already satisfied: joblib>=1.2.0 in /Users/marshinov/Library/Python/3.9/lib/python/site-packages (from scikit-learn) (1.4.2)\r\n",
      "Requirement already satisfied: threadpoolctl>=3.1.0 in /Users/marshinov/Library/Python/3.9/lib/python/site-packages (from scikit-learn) (3.5.0)\r\n",
      "Requirement already satisfied: aiohappyeyeballs>=2.3.0 in /Users/marshinov/Library/Python/3.9/lib/python/site-packages (from aiohttp<4.0.0,>=3.8.3->langchain) (2.4.4)\r\n",
      "Requirement already satisfied: aiosignal>=1.1.2 in /Users/marshinov/Library/Python/3.9/lib/python/site-packages (from aiohttp<4.0.0,>=3.8.3->langchain) (1.3.2)\r\n",
      "Requirement already satisfied: attrs>=17.3.0 in /Users/marshinov/Library/Python/3.9/lib/python/site-packages (from aiohttp<4.0.0,>=3.8.3->langchain) (24.3.0)\r\n",
      "Requirement already satisfied: frozenlist>=1.1.1 in /Users/marshinov/Library/Python/3.9/lib/python/site-packages (from aiohttp<4.0.0,>=3.8.3->langchain) (1.5.0)\r\n",
      "Requirement already satisfied: multidict<7.0,>=4.5 in /Users/marshinov/Library/Python/3.9/lib/python/site-packages (from aiohttp<4.0.0,>=3.8.3->langchain) (6.1.0)\r\n",
      "Requirement already satisfied: propcache>=0.2.0 in /Users/marshinov/Library/Python/3.9/lib/python/site-packages (from aiohttp<4.0.0,>=3.8.3->langchain) (0.2.1)\r\n",
      "Requirement already satisfied: yarl<2.0,>=1.17.0 in /Users/marshinov/Library/Python/3.9/lib/python/site-packages (from aiohttp<4.0.0,>=3.8.3->langchain) (1.18.3)\r\n",
      "Requirement already satisfied: exceptiongroup>=1.0.2 in /Users/marshinov/Library/Python/3.9/lib/python/site-packages (from anyio<5,>=3.5.0->openai) (1.2.2)\r\n",
      "Requirement already satisfied: idna>=2.8 in /Users/marshinov/Library/Python/3.9/lib/python/site-packages (from anyio<5,>=3.5.0->openai) (3.10)\r\n",
      "Requirement already satisfied: certifi in /Users/marshinov/Library/Python/3.9/lib/python/site-packages (from httpx<1,>=0.23.0->openai) (2024.12.14)\r\n",
      "Requirement already satisfied: httpcore==1.* in /Users/marshinov/Library/Python/3.9/lib/python/site-packages (from httpx<1,>=0.23.0->openai) (1.0.7)\r\n",
      "Requirement already satisfied: h11<0.15,>=0.13 in /Users/marshinov/Library/Python/3.9/lib/python/site-packages (from httpcore==1.*->httpx<1,>=0.23.0->openai) (0.14.0)\r\n",
      "Requirement already satisfied: zipp>=3.1.0 in /Users/marshinov/Library/Python/3.9/lib/python/site-packages (from importlib-resources>=3.2.0->matplotlib) (3.21.0)\r\n",
      "Requirement already satisfied: jsonpatch<2.0,>=1.33 in /Users/marshinov/Library/Python/3.9/lib/python/site-packages (from langchain-core<0.4.0,>=0.3.26->langchain) (1.33)\r\n",
      "Requirement already satisfied: orjson<4.0.0,>=3.9.14 in /Users/marshinov/Library/Python/3.9/lib/python/site-packages (from langsmith<0.3,>=0.1.17->langchain) (3.10.12)\r\n",
      "Requirement already satisfied: requests-toolbelt<2.0.0,>=1.0.0 in /Users/marshinov/Library/Python/3.9/lib/python/site-packages (from langsmith<0.3,>=0.1.17->langchain) (1.0.0)\r\n",
      "Requirement already satisfied: annotated-types>=0.6.0 in /Users/marshinov/Library/Python/3.9/lib/python/site-packages (from pydantic<3.0.0,>=2.7.4->langchain) (0.7.0)\r\n",
      "Requirement already satisfied: pydantic-core==2.27.2 in /Users/marshinov/Library/Python/3.9/lib/python/site-packages (from pydantic<3.0.0,>=2.7.4->langchain) (2.27.2)\r\n",
      "Requirement already satisfied: six>=1.5 in /Applications/Xcode.app/Contents/Developer/Library/Frameworks/Python3.framework/Versions/3.9/lib/python3.9/site-packages (from python-dateutil>=2.8.2->pandas) (1.15.0)\r\n",
      "Requirement already satisfied: charset-normalizer<4,>=2 in /Users/marshinov/Library/Python/3.9/lib/python/site-packages (from requests<3,>=2->langchain) (3.4.0)\r\n",
      "Requirement already satisfied: urllib3<3,>=1.21.1 in /Users/marshinov/Library/Python/3.9/lib/python/site-packages (from requests<3,>=2->langchain) (2.2.3)\r\n",
      "Requirement already satisfied: jsonpointer>=1.9 in /Users/marshinov/Library/Python/3.9/lib/python/site-packages (from jsonpatch<2.0,>=1.33->langchain-core<0.4.0,>=0.3.26->langchain) (3.0.0)\r\n",
      "Note: you may need to restart the kernel to use updated packages.\n"
     ]
    }
   ],
   "execution_count": 23,
   "source": "%pip install pandas",
   "id": "27e200dc33c27f0e"
  },
  {
   "metadata": {
    "ExecuteTime": {
     "end_time": "2024-12-26T10:26:11.600518Z",
     "start_time": "2024-12-26T10:26:11.087786Z"
    }
   },
   "cell_type": "code",
   "source": [
    "import pandas as pd\n",
    "\n",
    "# Load the dataset\n",
    "file_path = \"./Resume/Resume.csv\"  \n",
    "pd.set_option(\"display.max_rows\", 10) \n",
    "pd.set_option(\"display.max_columns\", None)\n",
    "data = pd.read_csv(file_path)\n",
    "\n",
    "data"
   ],
   "id": "9ba7955acfde49b3",
   "outputs": [
    {
     "data": {
      "text/plain": [
       "            ID                                         Resume_str  \\\n",
       "0     16852973           HR ADMINISTRATOR/MARKETING ASSOCIATE\\...   \n",
       "1     22323967           HR SPECIALIST, US HR OPERATIONS      ...   \n",
       "2     33176873           HR DIRECTOR       Summary      Over 2...   \n",
       "3     27018550           HR SPECIALIST       Summary    Dedica...   \n",
       "4     17812897           HR MANAGER         Skill Highlights  ...   \n",
       "...        ...                                                ...   \n",
       "2479  99416532           RANK: SGT/E-5 NON- COMMISSIONED OFFIC...   \n",
       "2480  24589765           GOVERNMENT RELATIONS, COMMUNICATIONS ...   \n",
       "2481  31605080           GEEK SQUAD AGENT         Professional...   \n",
       "2482  21190805           PROGRAM DIRECTOR / OFFICE MANAGER    ...   \n",
       "2483  37473139           STOREKEEPER II       Professional Sum...   \n",
       "\n",
       "                                            Resume_html  Category  \n",
       "0     <div class=\"fontsize fontface vmargins hmargin...        HR  \n",
       "1     <div class=\"fontsize fontface vmargins hmargin...        HR  \n",
       "2     <div class=\"fontsize fontface vmargins hmargin...        HR  \n",
       "3     <div class=\"fontsize fontface vmargins hmargin...        HR  \n",
       "4     <div class=\"fontsize fontface vmargins hmargin...        HR  \n",
       "...                                                 ...       ...  \n",
       "2479  <div class=\"fontsize fontface vmargins hmargin...  AVIATION  \n",
       "2480  <div class=\"fontsize fontface vmargins hmargin...  AVIATION  \n",
       "2481  <div class=\"fontsize fontface vmargins hmargin...  AVIATION  \n",
       "2482  <div class=\"fontsize fontface vmargins hmargin...  AVIATION  \n",
       "2483  <div class=\"fontsize fontface vmargins hmargin...  AVIATION  \n",
       "\n",
       "[2484 rows x 4 columns]"
      ],
      "text/html": [
       "<div>\n",
       "<style scoped>\n",
       "    .dataframe tbody tr th:only-of-type {\n",
       "        vertical-align: middle;\n",
       "    }\n",
       "\n",
       "    .dataframe tbody tr th {\n",
       "        vertical-align: top;\n",
       "    }\n",
       "\n",
       "    .dataframe thead th {\n",
       "        text-align: right;\n",
       "    }\n",
       "</style>\n",
       "<table border=\"1\" class=\"dataframe\">\n",
       "  <thead>\n",
       "    <tr style=\"text-align: right;\">\n",
       "      <th></th>\n",
       "      <th>ID</th>\n",
       "      <th>Resume_str</th>\n",
       "      <th>Resume_html</th>\n",
       "      <th>Category</th>\n",
       "    </tr>\n",
       "  </thead>\n",
       "  <tbody>\n",
       "    <tr>\n",
       "      <th>0</th>\n",
       "      <td>16852973</td>\n",
       "      <td>HR ADMINISTRATOR/MARKETING ASSOCIATE\\...</td>\n",
       "      <td>&lt;div class=\"fontsize fontface vmargins hmargin...</td>\n",
       "      <td>HR</td>\n",
       "    </tr>\n",
       "    <tr>\n",
       "      <th>1</th>\n",
       "      <td>22323967</td>\n",
       "      <td>HR SPECIALIST, US HR OPERATIONS      ...</td>\n",
       "      <td>&lt;div class=\"fontsize fontface vmargins hmargin...</td>\n",
       "      <td>HR</td>\n",
       "    </tr>\n",
       "    <tr>\n",
       "      <th>2</th>\n",
       "      <td>33176873</td>\n",
       "      <td>HR DIRECTOR       Summary      Over 2...</td>\n",
       "      <td>&lt;div class=\"fontsize fontface vmargins hmargin...</td>\n",
       "      <td>HR</td>\n",
       "    </tr>\n",
       "    <tr>\n",
       "      <th>3</th>\n",
       "      <td>27018550</td>\n",
       "      <td>HR SPECIALIST       Summary    Dedica...</td>\n",
       "      <td>&lt;div class=\"fontsize fontface vmargins hmargin...</td>\n",
       "      <td>HR</td>\n",
       "    </tr>\n",
       "    <tr>\n",
       "      <th>4</th>\n",
       "      <td>17812897</td>\n",
       "      <td>HR MANAGER         Skill Highlights  ...</td>\n",
       "      <td>&lt;div class=\"fontsize fontface vmargins hmargin...</td>\n",
       "      <td>HR</td>\n",
       "    </tr>\n",
       "    <tr>\n",
       "      <th>...</th>\n",
       "      <td>...</td>\n",
       "      <td>...</td>\n",
       "      <td>...</td>\n",
       "      <td>...</td>\n",
       "    </tr>\n",
       "    <tr>\n",
       "      <th>2479</th>\n",
       "      <td>99416532</td>\n",
       "      <td>RANK: SGT/E-5 NON- COMMISSIONED OFFIC...</td>\n",
       "      <td>&lt;div class=\"fontsize fontface vmargins hmargin...</td>\n",
       "      <td>AVIATION</td>\n",
       "    </tr>\n",
       "    <tr>\n",
       "      <th>2480</th>\n",
       "      <td>24589765</td>\n",
       "      <td>GOVERNMENT RELATIONS, COMMUNICATIONS ...</td>\n",
       "      <td>&lt;div class=\"fontsize fontface vmargins hmargin...</td>\n",
       "      <td>AVIATION</td>\n",
       "    </tr>\n",
       "    <tr>\n",
       "      <th>2481</th>\n",
       "      <td>31605080</td>\n",
       "      <td>GEEK SQUAD AGENT         Professional...</td>\n",
       "      <td>&lt;div class=\"fontsize fontface vmargins hmargin...</td>\n",
       "      <td>AVIATION</td>\n",
       "    </tr>\n",
       "    <tr>\n",
       "      <th>2482</th>\n",
       "      <td>21190805</td>\n",
       "      <td>PROGRAM DIRECTOR / OFFICE MANAGER    ...</td>\n",
       "      <td>&lt;div class=\"fontsize fontface vmargins hmargin...</td>\n",
       "      <td>AVIATION</td>\n",
       "    </tr>\n",
       "    <tr>\n",
       "      <th>2483</th>\n",
       "      <td>37473139</td>\n",
       "      <td>STOREKEEPER II       Professional Sum...</td>\n",
       "      <td>&lt;div class=\"fontsize fontface vmargins hmargin...</td>\n",
       "      <td>AVIATION</td>\n",
       "    </tr>\n",
       "  </tbody>\n",
       "</table>\n",
       "<p>2484 rows × 4 columns</p>\n",
       "</div>"
      ]
     },
     "execution_count": 53,
     "metadata": {},
     "output_type": "execute_result"
    }
   ],
   "execution_count": 53
  },
  {
   "metadata": {
    "ExecuteTime": {
     "end_time": "2024-12-26T10:19:58.164186Z",
     "start_time": "2024-12-26T10:19:56.640037Z"
    }
   },
   "cell_type": "code",
   "source": [
    "%pip install -U langchain-community\n",
    "%pip install -qU langchain-openai"
   ],
   "id": "b763b2d8a593967b",
   "outputs": [
    {
     "name": "stdout",
     "output_type": "stream",
     "text": [
      "Defaulting to user installation because normal site-packages is not writeable\r\n",
      "Requirement already satisfied: langchain-community in /Users/marshinov/Library/Python/3.9/lib/python/site-packages (0.3.13)\r\n",
      "Requirement already satisfied: PyYAML>=5.3 in /Users/marshinov/Library/Python/3.9/lib/python/site-packages (from langchain-community) (6.0.2)\r\n",
      "Requirement already satisfied: SQLAlchemy<3,>=1.4 in /Users/marshinov/Library/Python/3.9/lib/python/site-packages (from langchain-community) (2.0.36)\r\n",
      "Requirement already satisfied: aiohttp<4.0.0,>=3.8.3 in /Users/marshinov/Library/Python/3.9/lib/python/site-packages (from langchain-community) (3.11.11)\r\n",
      "Requirement already satisfied: dataclasses-json<0.7,>=0.5.7 in /Users/marshinov/Library/Python/3.9/lib/python/site-packages (from langchain-community) (0.6.7)\r\n",
      "Requirement already satisfied: httpx-sse<0.5.0,>=0.4.0 in /Users/marshinov/Library/Python/3.9/lib/python/site-packages (from langchain-community) (0.4.0)\r\n",
      "Requirement already satisfied: langchain<0.4.0,>=0.3.13 in /Users/marshinov/Library/Python/3.9/lib/python/site-packages (from langchain-community) (0.3.13)\r\n",
      "Requirement already satisfied: langchain-core<0.4.0,>=0.3.27 in /Users/marshinov/Library/Python/3.9/lib/python/site-packages (from langchain-community) (0.3.28)\r\n",
      "Requirement already satisfied: langsmith<0.3,>=0.1.125 in /Users/marshinov/Library/Python/3.9/lib/python/site-packages (from langchain-community) (0.2.6)\r\n",
      "Requirement already satisfied: numpy<2,>=1.22.4 in /Users/marshinov/Library/Python/3.9/lib/python/site-packages (from langchain-community) (1.26.4)\r\n",
      "Requirement already satisfied: pydantic-settings<3.0.0,>=2.4.0 in /Users/marshinov/Library/Python/3.9/lib/python/site-packages (from langchain-community) (2.7.0)\r\n",
      "Requirement already satisfied: requests<3,>=2 in /Users/marshinov/Library/Python/3.9/lib/python/site-packages (from langchain-community) (2.32.3)\r\n",
      "Requirement already satisfied: tenacity!=8.4.0,<10,>=8.1.0 in /Users/marshinov/Library/Python/3.9/lib/python/site-packages (from langchain-community) (9.0.0)\r\n",
      "Requirement already satisfied: aiohappyeyeballs>=2.3.0 in /Users/marshinov/Library/Python/3.9/lib/python/site-packages (from aiohttp<4.0.0,>=3.8.3->langchain-community) (2.4.4)\r\n",
      "Requirement already satisfied: aiosignal>=1.1.2 in /Users/marshinov/Library/Python/3.9/lib/python/site-packages (from aiohttp<4.0.0,>=3.8.3->langchain-community) (1.3.2)\r\n",
      "Requirement already satisfied: async-timeout<6.0,>=4.0 in /Users/marshinov/Library/Python/3.9/lib/python/site-packages (from aiohttp<4.0.0,>=3.8.3->langchain-community) (4.0.3)\r\n",
      "Requirement already satisfied: attrs>=17.3.0 in /Users/marshinov/Library/Python/3.9/lib/python/site-packages (from aiohttp<4.0.0,>=3.8.3->langchain-community) (24.3.0)\r\n",
      "Requirement already satisfied: frozenlist>=1.1.1 in /Users/marshinov/Library/Python/3.9/lib/python/site-packages (from aiohttp<4.0.0,>=3.8.3->langchain-community) (1.5.0)\r\n",
      "Requirement already satisfied: multidict<7.0,>=4.5 in /Users/marshinov/Library/Python/3.9/lib/python/site-packages (from aiohttp<4.0.0,>=3.8.3->langchain-community) (6.1.0)\r\n",
      "Requirement already satisfied: propcache>=0.2.0 in /Users/marshinov/Library/Python/3.9/lib/python/site-packages (from aiohttp<4.0.0,>=3.8.3->langchain-community) (0.2.1)\r\n",
      "Requirement already satisfied: yarl<2.0,>=1.17.0 in /Users/marshinov/Library/Python/3.9/lib/python/site-packages (from aiohttp<4.0.0,>=3.8.3->langchain-community) (1.18.3)\r\n",
      "Requirement already satisfied: marshmallow<4.0.0,>=3.18.0 in /Users/marshinov/Library/Python/3.9/lib/python/site-packages (from dataclasses-json<0.7,>=0.5.7->langchain-community) (3.23.2)\r\n",
      "Requirement already satisfied: typing-inspect<1,>=0.4.0 in /Users/marshinov/Library/Python/3.9/lib/python/site-packages (from dataclasses-json<0.7,>=0.5.7->langchain-community) (0.9.0)\r\n",
      "Requirement already satisfied: langchain-text-splitters<0.4.0,>=0.3.3 in /Users/marshinov/Library/Python/3.9/lib/python/site-packages (from langchain<0.4.0,>=0.3.13->langchain-community) (0.3.4)\r\n",
      "Requirement already satisfied: pydantic<3.0.0,>=2.7.4 in /Users/marshinov/Library/Python/3.9/lib/python/site-packages (from langchain<0.4.0,>=0.3.13->langchain-community) (2.10.4)\r\n",
      "Requirement already satisfied: jsonpatch<2.0,>=1.33 in /Users/marshinov/Library/Python/3.9/lib/python/site-packages (from langchain-core<0.4.0,>=0.3.27->langchain-community) (1.33)\r\n",
      "Requirement already satisfied: packaging<25,>=23.2 in /Users/marshinov/Library/Python/3.9/lib/python/site-packages (from langchain-core<0.4.0,>=0.3.27->langchain-community) (24.2)\r\n",
      "Requirement already satisfied: typing-extensions>=4.7 in /Users/marshinov/Library/Python/3.9/lib/python/site-packages (from langchain-core<0.4.0,>=0.3.27->langchain-community) (4.12.2)\r\n",
      "Requirement already satisfied: httpx<1,>=0.23.0 in /Users/marshinov/Library/Python/3.9/lib/python/site-packages (from langsmith<0.3,>=0.1.125->langchain-community) (0.28.1)\r\n",
      "Requirement already satisfied: orjson<4.0.0,>=3.9.14 in /Users/marshinov/Library/Python/3.9/lib/python/site-packages (from langsmith<0.3,>=0.1.125->langchain-community) (3.10.12)\r\n",
      "Requirement already satisfied: requests-toolbelt<2.0.0,>=1.0.0 in /Users/marshinov/Library/Python/3.9/lib/python/site-packages (from langsmith<0.3,>=0.1.125->langchain-community) (1.0.0)\r\n",
      "Requirement already satisfied: python-dotenv>=0.21.0 in /Users/marshinov/Library/Python/3.9/lib/python/site-packages (from pydantic-settings<3.0.0,>=2.4.0->langchain-community) (1.0.1)\r\n",
      "Requirement already satisfied: charset-normalizer<4,>=2 in /Users/marshinov/Library/Python/3.9/lib/python/site-packages (from requests<3,>=2->langchain-community) (3.4.0)\r\n",
      "Requirement already satisfied: idna<4,>=2.5 in /Users/marshinov/Library/Python/3.9/lib/python/site-packages (from requests<3,>=2->langchain-community) (3.10)\r\n",
      "Requirement already satisfied: urllib3<3,>=1.21.1 in /Users/marshinov/Library/Python/3.9/lib/python/site-packages (from requests<3,>=2->langchain-community) (2.2.3)\r\n",
      "Requirement already satisfied: certifi>=2017.4.17 in /Users/marshinov/Library/Python/3.9/lib/python/site-packages (from requests<3,>=2->langchain-community) (2024.12.14)\r\n",
      "Requirement already satisfied: anyio in /Users/marshinov/Library/Python/3.9/lib/python/site-packages (from httpx<1,>=0.23.0->langsmith<0.3,>=0.1.125->langchain-community) (4.7.0)\r\n",
      "Requirement already satisfied: httpcore==1.* in /Users/marshinov/Library/Python/3.9/lib/python/site-packages (from httpx<1,>=0.23.0->langsmith<0.3,>=0.1.125->langchain-community) (1.0.7)\r\n",
      "Requirement already satisfied: h11<0.15,>=0.13 in /Users/marshinov/Library/Python/3.9/lib/python/site-packages (from httpcore==1.*->httpx<1,>=0.23.0->langsmith<0.3,>=0.1.125->langchain-community) (0.14.0)\r\n",
      "Requirement already satisfied: jsonpointer>=1.9 in /Users/marshinov/Library/Python/3.9/lib/python/site-packages (from jsonpatch<2.0,>=1.33->langchain-core<0.4.0,>=0.3.27->langchain-community) (3.0.0)\r\n",
      "Requirement already satisfied: annotated-types>=0.6.0 in /Users/marshinov/Library/Python/3.9/lib/python/site-packages (from pydantic<3.0.0,>=2.7.4->langchain<0.4.0,>=0.3.13->langchain-community) (0.7.0)\r\n",
      "Requirement already satisfied: pydantic-core==2.27.2 in /Users/marshinov/Library/Python/3.9/lib/python/site-packages (from pydantic<3.0.0,>=2.7.4->langchain<0.4.0,>=0.3.13->langchain-community) (2.27.2)\r\n",
      "Requirement already satisfied: mypy-extensions>=0.3.0 in /Users/marshinov/Library/Python/3.9/lib/python/site-packages (from typing-inspect<1,>=0.4.0->dataclasses-json<0.7,>=0.5.7->langchain-community) (1.0.0)\r\n",
      "Requirement already satisfied: exceptiongroup>=1.0.2 in /Users/marshinov/Library/Python/3.9/lib/python/site-packages (from anyio->httpx<1,>=0.23.0->langsmith<0.3,>=0.1.125->langchain-community) (1.2.2)\r\n",
      "Requirement already satisfied: sniffio>=1.1 in /Users/marshinov/Library/Python/3.9/lib/python/site-packages (from anyio->httpx<1,>=0.23.0->langsmith<0.3,>=0.1.125->langchain-community) (1.3.1)\r\n",
      "Note: you may need to restart the kernel to use updated packages.\n",
      "Note: you may need to restart the kernel to use updated packages.\n"
     ]
    }
   ],
   "execution_count": 38
  },
  {
   "metadata": {
    "ExecuteTime": {
     "end_time": "2024-12-26T10:20:52.203511Z",
     "start_time": "2024-12-26T10:20:52.200487Z"
    }
   },
   "cell_type": "code",
   "source": [
    "from dotenv import load_dotenv\n",
    "import os\n",
    "\n",
    "load_dotenv()\n",
    "openai_api_key = os.getenv('OPENAI_API_KEY')"
   ],
   "id": "cf07e472d09133dd",
   "outputs": [],
   "execution_count": 44
  },
  {
   "metadata": {
    "ExecuteTime": {
     "end_time": "2024-12-26T10:21:04.022355Z",
     "start_time": "2024-12-26T10:21:04.008072Z"
    }
   },
   "cell_type": "code",
   "source": [
    "from langchain.chat_models import ChatOpenAI\n",
    "\n",
    "llm = ChatOpenAI(model=\"gpt-4\")"
   ],
   "id": "581a1ba7f869337f",
   "outputs": [],
   "execution_count": 46
  },
  {
   "metadata": {
    "ExecuteTime": {
     "end_time": "2024-12-26T10:30:02.077566Z",
     "start_time": "2024-12-26T10:30:02.071418Z"
    }
   },
   "cell_type": "code",
   "source": [
    "limited_data = data.iloc[:2]\n",
    "limited_data"
   ],
   "id": "f69b8df81e52dbe6",
   "outputs": [
    {
     "data": {
      "text/plain": [
       "         ID                                         Resume_str  \\\n",
       "0  16852973           HR ADMINISTRATOR/MARKETING ASSOCIATE\\...   \n",
       "1  22323967           HR SPECIALIST, US HR OPERATIONS      ...   \n",
       "\n",
       "                                         Resume_html Category  \n",
       "0  <div class=\"fontsize fontface vmargins hmargin...       HR  \n",
       "1  <div class=\"fontsize fontface vmargins hmargin...       HR  "
      ],
      "text/html": [
       "<div>\n",
       "<style scoped>\n",
       "    .dataframe tbody tr th:only-of-type {\n",
       "        vertical-align: middle;\n",
       "    }\n",
       "\n",
       "    .dataframe tbody tr th {\n",
       "        vertical-align: top;\n",
       "    }\n",
       "\n",
       "    .dataframe thead th {\n",
       "        text-align: right;\n",
       "    }\n",
       "</style>\n",
       "<table border=\"1\" class=\"dataframe\">\n",
       "  <thead>\n",
       "    <tr style=\"text-align: right;\">\n",
       "      <th></th>\n",
       "      <th>ID</th>\n",
       "      <th>Resume_str</th>\n",
       "      <th>Resume_html</th>\n",
       "      <th>Category</th>\n",
       "    </tr>\n",
       "  </thead>\n",
       "  <tbody>\n",
       "    <tr>\n",
       "      <th>0</th>\n",
       "      <td>16852973</td>\n",
       "      <td>HR ADMINISTRATOR/MARKETING ASSOCIATE\\...</td>\n",
       "      <td>&lt;div class=\"fontsize fontface vmargins hmargin...</td>\n",
       "      <td>HR</td>\n",
       "    </tr>\n",
       "    <tr>\n",
       "      <th>1</th>\n",
       "      <td>22323967</td>\n",
       "      <td>HR SPECIALIST, US HR OPERATIONS      ...</td>\n",
       "      <td>&lt;div class=\"fontsize fontface vmargins hmargin...</td>\n",
       "      <td>HR</td>\n",
       "    </tr>\n",
       "  </tbody>\n",
       "</table>\n",
       "</div>"
      ]
     },
     "execution_count": 56,
     "metadata": {},
     "output_type": "execute_result"
    }
   ],
   "execution_count": 56
  },
  {
   "metadata": {
    "ExecuteTime": {
     "end_time": "2024-12-26T10:43:26.356449Z",
     "start_time": "2024-12-26T10:43:07.363684Z"
    }
   },
   "cell_type": "code",
   "source": [
    "def extract_skills(resume_text, llm: ChatOpenAI):\n",
    "    prompt = f\"Extract the skills from the following resume text:\\n\\n{resume_text}. Format the response as a CSV\"\n",
    "    response = llm.invoke(prompt)\n",
    "    return response\n",
    "\n",
    "# Apply the function to your dataset\n",
    "extracted = limited_data['Resume_str'].apply(lambda x: extract_skills(x, llm))\n",
    "extracted"
   ],
   "id": "9a4cf56f16591862",
   "outputs": [
    {
     "data": {
      "text/plain": [
       "0    content='\"HR Administration, Customer Service ...\n",
       "1    content='\"Adobe Photoshop, ADP, Asset Manageme...\n",
       "Name: Resume_str, dtype: object"
      ]
     },
     "execution_count": 72,
     "metadata": {},
     "output_type": "execute_result"
    }
   ],
   "execution_count": 72
  },
  {
   "metadata": {
    "ExecuteTime": {
     "end_time": "2024-12-26T10:58:10.514978Z",
     "start_time": "2024-12-26T10:58:10.508521Z"
    }
   },
   "cell_type": "code",
   "source": [
    "skills_list = extracted.map(lambda x: x.content.split(',')).map(lambda x: [s.strip() for s in x])\n",
    "all_skills = [skill for sublist in skills_list for skill in sublist]\n",
    "all_skills\n"
   ],
   "id": "35f344b84d34699f",
   "outputs": [
    {
     "data": {
      "text/plain": [
       "['\"HR Administration',\n",
       " 'Customer Service Management',\n",
       " 'Team Management',\n",
       " 'Marketing',\n",
       " 'Conflict Resolution',\n",
       " 'Training and Development',\n",
       " 'Multi-tasking',\n",
       " 'Client Relations',\n",
       " 'Policy Development',\n",
       " 'Compensation Management',\n",
       " 'Labor Relations',\n",
       " 'Benefits Management',\n",
       " 'Employee Services',\n",
       " 'Documentation',\n",
       " 'Record Keeping',\n",
       " 'Employee Relations',\n",
       " 'Insurance Management',\n",
       " 'Pension Plans Management',\n",
       " 'Vacation Management',\n",
       " 'Sick Leave Management',\n",
       " 'Employee Assistance',\n",
       " 'Collateral Design',\n",
       " 'Advertising',\n",
       " 'Website Design',\n",
       " 'Social Media Management',\n",
       " 'Competitor Analysis',\n",
       " 'Medical Billing',\n",
       " 'ICD-9',\n",
       " 'CPT',\n",
       " 'Medical Terminology',\n",
       " 'Data Analysis',\n",
       " 'Budgeting',\n",
       " 'Financial Management',\n",
       " 'Accounting',\n",
       " 'Payroll Management',\n",
       " 'Purchasing',\n",
       " 'Public Relations',\n",
       " 'Customer Service',\n",
       " 'Front-end Operations',\n",
       " 'Business Administration',\n",
       " 'Marketing/Advertising',\n",
       " 'Accounting',\n",
       " 'Analytical Skills',\n",
       " 'Benefits Management',\n",
       " 'Billing',\n",
       " 'Budgeting',\n",
       " 'Client Service',\n",
       " 'Data Analysis',\n",
       " 'Delivery',\n",
       " 'Documentation',\n",
       " 'Employee Relations',\n",
       " 'Financial Management',\n",
       " 'Government Relations',\n",
       " 'Human Resources Management',\n",
       " 'Insurance Management',\n",
       " 'Labor Relations',\n",
       " 'Marketing',\n",
       " 'Medical Billing',\n",
       " 'Medical Terminology',\n",
       " 'Office Management',\n",
       " 'Organizational Skills',\n",
       " 'Payroll',\n",
       " 'Performance Reviews',\n",
       " 'Personnel Management',\n",
       " 'Policy Development',\n",
       " 'Public Relations',\n",
       " 'Purchasing',\n",
       " 'Reporting',\n",
       " 'Statistics',\n",
       " 'Website Management\"',\n",
       " '\"Adobe Photoshop',\n",
       " 'ADP',\n",
       " 'Asset Management',\n",
       " 'Branding',\n",
       " 'Brochures',\n",
       " 'Content Creation',\n",
       " 'Customer Care',\n",
       " 'Final Cut Pro',\n",
       " 'Graphics',\n",
       " 'Human Resources',\n",
       " 'Illustrator',\n",
       " 'InDesign',\n",
       " 'Innovation',\n",
       " 'Inventory Management',\n",
       " 'Lotus Notes',\n",
       " 'Marketing',\n",
       " 'Marketing Materials',\n",
       " 'Microsoft Office',\n",
       " 'SharePoint',\n",
       " 'Newsletter Creation',\n",
       " 'Presentation Skills',\n",
       " 'Process Improvement',\n",
       " 'Project Management',\n",
       " 'Promotional Materials',\n",
       " 'Quality Assurance',\n",
       " 'Real-time Feedback',\n",
       " 'Recruitment',\n",
       " 'Reporting',\n",
       " 'RFP Preparation',\n",
       " 'Sales',\n",
       " 'Storytelling',\n",
       " 'Employee Development',\n",
       " 'Video Production',\n",
       " 'Web Design',\n",
       " 'Website Management',\n",
       " 'Article Writing\"']"
      ]
     },
     "execution_count": 104,
     "metadata": {},
     "output_type": "execute_result"
    }
   ],
   "execution_count": 104
  },
  {
   "metadata": {
    "ExecuteTime": {
     "end_time": "2024-12-26T10:59:36.105284Z",
     "start_time": "2024-12-26T10:59:36.100323Z"
    }
   },
   "cell_type": "code",
   "source": [
    "import pandas as pd\n",
    "from collections import Counter\n",
    "\n",
    "skill_counts = Counter(all_skills)\n",
    "skill_counts"
   ],
   "id": "3cf4a80969f619e",
   "outputs": [
    {
     "data": {
      "text/plain": [
       "Counter({'Marketing': 3,\n",
       "         'Policy Development': 2,\n",
       "         'Labor Relations': 2,\n",
       "         'Benefits Management': 2,\n",
       "         'Documentation': 2,\n",
       "         'Employee Relations': 2,\n",
       "         'Insurance Management': 2,\n",
       "         'Medical Billing': 2,\n",
       "         'Medical Terminology': 2,\n",
       "         'Data Analysis': 2,\n",
       "         'Budgeting': 2,\n",
       "         'Financial Management': 2,\n",
       "         'Accounting': 2,\n",
       "         'Purchasing': 2,\n",
       "         'Public Relations': 2,\n",
       "         'Reporting': 2,\n",
       "         '\"HR Administration': 1,\n",
       "         'Customer Service Management': 1,\n",
       "         'Team Management': 1,\n",
       "         'Conflict Resolution': 1,\n",
       "         'Training and Development': 1,\n",
       "         'Multi-tasking': 1,\n",
       "         'Client Relations': 1,\n",
       "         'Compensation Management': 1,\n",
       "         'Employee Services': 1,\n",
       "         'Record Keeping': 1,\n",
       "         'Pension Plans Management': 1,\n",
       "         'Vacation Management': 1,\n",
       "         'Sick Leave Management': 1,\n",
       "         'Employee Assistance': 1,\n",
       "         'Collateral Design': 1,\n",
       "         'Advertising': 1,\n",
       "         'Website Design': 1,\n",
       "         'Social Media Management': 1,\n",
       "         'Competitor Analysis': 1,\n",
       "         'ICD-9': 1,\n",
       "         'CPT': 1,\n",
       "         'Payroll Management': 1,\n",
       "         'Customer Service': 1,\n",
       "         'Front-end Operations': 1,\n",
       "         'Business Administration': 1,\n",
       "         'Marketing/Advertising': 1,\n",
       "         'Analytical Skills': 1,\n",
       "         'Billing': 1,\n",
       "         'Client Service': 1,\n",
       "         'Delivery': 1,\n",
       "         'Government Relations': 1,\n",
       "         'Human Resources Management': 1,\n",
       "         'Office Management': 1,\n",
       "         'Organizational Skills': 1,\n",
       "         'Payroll': 1,\n",
       "         'Performance Reviews': 1,\n",
       "         'Personnel Management': 1,\n",
       "         'Statistics': 1,\n",
       "         'Website Management\"': 1,\n",
       "         '\"Adobe Photoshop': 1,\n",
       "         'ADP': 1,\n",
       "         'Asset Management': 1,\n",
       "         'Branding': 1,\n",
       "         'Brochures': 1,\n",
       "         'Content Creation': 1,\n",
       "         'Customer Care': 1,\n",
       "         'Final Cut Pro': 1,\n",
       "         'Graphics': 1,\n",
       "         'Human Resources': 1,\n",
       "         'Illustrator': 1,\n",
       "         'InDesign': 1,\n",
       "         'Innovation': 1,\n",
       "         'Inventory Management': 1,\n",
       "         'Lotus Notes': 1,\n",
       "         'Marketing Materials': 1,\n",
       "         'Microsoft Office': 1,\n",
       "         'SharePoint': 1,\n",
       "         'Newsletter Creation': 1,\n",
       "         'Presentation Skills': 1,\n",
       "         'Process Improvement': 1,\n",
       "         'Project Management': 1,\n",
       "         'Promotional Materials': 1,\n",
       "         'Quality Assurance': 1,\n",
       "         'Real-time Feedback': 1,\n",
       "         'Recruitment': 1,\n",
       "         'RFP Preparation': 1,\n",
       "         'Sales': 1,\n",
       "         'Storytelling': 1,\n",
       "         'Employee Development': 1,\n",
       "         'Video Production': 1,\n",
       "         'Web Design': 1,\n",
       "         'Website Management': 1,\n",
       "         'Article Writing\"': 1})"
      ]
     },
     "execution_count": 107,
     "metadata": {},
     "output_type": "execute_result"
    }
   ],
   "execution_count": 107
  },
  {
   "metadata": {
    "ExecuteTime": {
     "end_time": "2024-12-26T10:59:49.442515Z",
     "start_time": "2024-12-26T10:59:49.438955Z"
    }
   },
   "cell_type": "code",
   "source": [
    "top_skills = skill_counts.most_common(10)\n",
    "skills, counts = zip(*top_skills)"
   ],
   "id": "bd9e5cc726e241b1",
   "outputs": [],
   "execution_count": 109
  },
  {
   "metadata": {
    "ExecuteTime": {
     "end_time": "2024-12-26T11:00:08.568268Z",
     "start_time": "2024-12-26T11:00:08.375728Z"
    }
   },
   "cell_type": "code",
   "source": [
    "import matplotlib.pyplot as plt\n",
    "\n",
    "plt.figure(figsize=(10, 6))\n",
    "plt.bar(skills, counts)\n",
    "plt.xticks(rotation=45, ha=\"right\")\n",
    "plt.title(\"Top 10 Skills in Resumes\")\n",
    "plt.ylabel(\"Frequency\")\n",
    "plt.xlabel(\"Skills\")\n",
    "plt.tight_layout()\n",
    "plt.show()"
   ],
   "id": "2deac7ccaca7392e",
   "outputs": [
    {
     "data": {
      "text/plain": [
       "<Figure size 1000x600 with 1 Axes>"
      ],
      "image/png": "[encoded data removed]"
     },
     "metadata": {},
     "output_type": "display_data"
    }
   ],
   "execution_count": 110
  }
 ],
 "metadata": {
  "kernelspec": {
   "display_name": "Python 3",
   "language": "python",
   "name": "python3"
  },
  "language_info": {
   "codemirror_mode": {
    "name": "ipython",
    "version": 2
   },
   "file_extension": ".py",
   "mimetype": "text/x-python",
   "name": "python",
   "nbconvert_exporter": "python",
   "pygments_lexer": "ipython2",
   "version": "2.7.6"
  }
 },
 "nbformat": 4,
 "nbformat_minor": 5
}

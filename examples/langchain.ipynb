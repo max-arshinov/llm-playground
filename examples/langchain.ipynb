{
 "cells": [
  {
   "cell_type": "code",
   "metadata": {
    "collapsed": true,
    "ExecuteTime": {
     "end_time": "2024-12-14T16:51:30.179370Z",
     "start_time": "2024-12-14T16:51:29.965633Z"
    }
   },
   "source": [
    "%useLatestDescriptors\n",
    "%use coroutines\n",
    "\n",
    "        @file:DependsOn(\"dev.langchain4j:langchain4j:0.36.2\")\n",
    "        @file:DependsOn(\"dev.langchain4j:langchain4j-open-ai:0.36.2\")\n",
    "\n",
    "// add maven dependency\n",
    "        @file:DependsOn(\"me.kpavlov.langchain4j.kotlin:langchain4j-kotlin:0.1.1\")\n",
    "// ... or add project's target/classes to classpath\n",
    "//@file:DependsOn(\"../target/classes\")\n",
    "\n",
    "        import dev.langchain4j.data.message.*\n",
    "        import dev.langchain4j.model.openai.OpenAiChatModel\n",
    "        import me.kpavlov.langchain4j.kotlin.model.chat.generateAsync\n",
    "\n",
    "val model = OpenAiChatModel.builder()\n",
    "    .apiKey(\"\")\n",
    "    .modelName(\"gpt-4o\")\n",
    "    .temperature(0.0)\n",
    "    .maxTokens(1024)\n",
    "    .build()"
   ],
   "outputs": [],
   "execution_count": 4
  },
  {
   "metadata": {
    "ExecuteTime": {
     "end_time": "2024-12-14T16:51:33.004970Z",
     "start_time": "2024-12-14T16:51:31.793963Z"
    }
   },
   "cell_type": "code",
   "source": [
    "runBlocking {\n",
    "    val result = model.generateAsync(\n",
    "        listOf(\n",
    "            SystemMessage.from(\"You are helpful assistant\"),\n",
    "            UserMessage.from(\"Make a haiku about Kotlin, Langchani4j and LLM\"),\n",
    "        )\n",
    "    )\n",
    "    println(result.content().text())\n",
    "}"
   ],
   "outputs": [
    {
     "name": "stdout",
     "output_type": "stream",
     "text": [
      "Kotlin's swift embrace,  \n",
      "Langchain weaves logic's fine thread,  \n",
      "LLM dreams bloom bright.\n"
     ]
    }
   ],
   "execution_count": 5
  }
 ],
 "metadata": {
  "kernelspec": {
   "display_name": "Kotlin",
   "language": "kotlin",
   "name": "kotlin"
  },
  "language_info": {
   "name": "kotlin",
   "version": "1.9.23",
   "mimetype": "text/x-kotlin",
   "file_extension": ".kt",
   "pygments_lexer": "kotlin",
   "codemirror_mode": "text/x-kotlin",
   "nbconvert_exporter": ""
  }
 },
 "nbformat": 4,
 "nbformat_minor": 0
}
